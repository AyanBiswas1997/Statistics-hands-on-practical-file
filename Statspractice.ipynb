{
 "cells": [
  {
   "cell_type": "code",
   "execution_count": 13,
   "id": "087d07e4-1386-4b71-b92b-9da03fc26eb6",
   "metadata": {},
   "outputs": [],
   "source": [
    "import random"
   ]
  },
  {
   "cell_type": "code",
   "execution_count": 14,
   "id": "7203dc39-562f-427d-a227-d2fdca62efb4",
   "metadata": {},
   "outputs": [],
   "source": [
    "data=[]\n",
    "for i in range(10):\n",
    "    random_num=random.randint(20,70)\n",
    "    data.append(random_num)"
   ]
  },
  {
   "cell_type": "code",
   "execution_count": 15,
   "id": "e190d523-00a9-4538-b680-36eac628c5d4",
   "metadata": {},
   "outputs": [
    {
     "data": {
      "text/plain": [
       "[32, 26, 33, 57, 21, 29, 33, 27, 34, 50]"
      ]
     },
     "execution_count": 15,
     "metadata": {},
     "output_type": "execute_result"
    }
   ],
   "source": [
    "data"
   ]
  },
  {
   "cell_type": "code",
   "execution_count": 16,
   "id": "875a512a-3f64-4040-81b5-3ffe76d1de7c",
   "metadata": {},
   "outputs": [],
   "source": [
    "data_copy=data.copy()"
   ]
  },
  {
   "cell_type": "code",
   "execution_count": 17,
   "id": "ad3cb699-92f8-4481-a9f1-e4cba9f52ee8",
   "metadata": {},
   "outputs": [],
   "source": [
    "import pandas as pd"
   ]
  },
  {
   "cell_type": "code",
   "execution_count": 18,
   "id": "6416a86c-a2bd-41e6-8628-fa48649b5e41",
   "metadata": {},
   "outputs": [],
   "source": [
    "data1=pd.read_csv(r\"D:\\stastsN\\iris.csv\")"
   ]
  },
  {
   "cell_type": "code",
   "execution_count": 19,
   "id": "5ac152da-b42c-4804-b468-16f7816165e9",
   "metadata": {},
   "outputs": [],
   "source": [
    "data2=pd.read_csv(r\"D:\\data science\\stats prac(2)\\stats_part 2\\titanic_train.csv\")"
   ]
  },
  {
   "cell_type": "code",
   "execution_count": 20,
   "id": "521fd3e0-e93e-4656-99dd-d5176454bdb3",
   "metadata": {},
   "outputs": [
    {
     "name": "stdout",
     "output_type": "stream",
     "text": [
      "34.2\n",
      "32.5\n"
     ]
    }
   ],
   "source": [
    "import numpy as np\n",
    "print(np.mean(data))\n",
    "print(np.median(data))"
   ]
  },
  {
   "cell_type": "code",
   "execution_count": 21,
   "id": "8303f7bd-ec8d-4b92-89eb-3ccd3b62ee87",
   "metadata": {},
   "outputs": [
    {
     "data": {
      "text/html": [
       "<div>\n",
       "<style scoped>\n",
       "    .dataframe tbody tr th:only-of-type {\n",
       "        vertical-align: middle;\n",
       "    }\n",
       "\n",
       "    .dataframe tbody tr th {\n",
       "        vertical-align: top;\n",
       "    }\n",
       "\n",
       "    .dataframe thead th {\n",
       "        text-align: right;\n",
       "    }\n",
       "</style>\n",
       "<table border=\"1\" class=\"dataframe\">\n",
       "  <thead>\n",
       "    <tr style=\"text-align: right;\">\n",
       "      <th></th>\n",
       "      <th>sepal_length</th>\n",
       "      <th>sepal_width</th>\n",
       "      <th>petal_length</th>\n",
       "      <th>petal_width</th>\n",
       "      <th>species</th>\n",
       "    </tr>\n",
       "  </thead>\n",
       "  <tbody>\n",
       "    <tr>\n",
       "      <th>0</th>\n",
       "      <td>5.1</td>\n",
       "      <td>3.5</td>\n",
       "      <td>1.4</td>\n",
       "      <td>0.2</td>\n",
       "      <td>setosa</td>\n",
       "    </tr>\n",
       "    <tr>\n",
       "      <th>1</th>\n",
       "      <td>4.9</td>\n",
       "      <td>3.0</td>\n",
       "      <td>1.4</td>\n",
       "      <td>0.2</td>\n",
       "      <td>setosa</td>\n",
       "    </tr>\n",
       "    <tr>\n",
       "      <th>2</th>\n",
       "      <td>4.7</td>\n",
       "      <td>3.2</td>\n",
       "      <td>1.3</td>\n",
       "      <td>0.2</td>\n",
       "      <td>setosa</td>\n",
       "    </tr>\n",
       "    <tr>\n",
       "      <th>3</th>\n",
       "      <td>4.6</td>\n",
       "      <td>3.1</td>\n",
       "      <td>1.5</td>\n",
       "      <td>0.2</td>\n",
       "      <td>setosa</td>\n",
       "    </tr>\n",
       "    <tr>\n",
       "      <th>4</th>\n",
       "      <td>5.0</td>\n",
       "      <td>3.6</td>\n",
       "      <td>1.4</td>\n",
       "      <td>0.2</td>\n",
       "      <td>setosa</td>\n",
       "    </tr>\n",
       "    <tr>\n",
       "      <th>...</th>\n",
       "      <td>...</td>\n",
       "      <td>...</td>\n",
       "      <td>...</td>\n",
       "      <td>...</td>\n",
       "      <td>...</td>\n",
       "    </tr>\n",
       "    <tr>\n",
       "      <th>145</th>\n",
       "      <td>6.7</td>\n",
       "      <td>3.0</td>\n",
       "      <td>5.2</td>\n",
       "      <td>2.3</td>\n",
       "      <td>virginica</td>\n",
       "    </tr>\n",
       "    <tr>\n",
       "      <th>146</th>\n",
       "      <td>6.3</td>\n",
       "      <td>2.5</td>\n",
       "      <td>5.0</td>\n",
       "      <td>1.9</td>\n",
       "      <td>virginica</td>\n",
       "    </tr>\n",
       "    <tr>\n",
       "      <th>147</th>\n",
       "      <td>6.5</td>\n",
       "      <td>3.0</td>\n",
       "      <td>5.2</td>\n",
       "      <td>2.0</td>\n",
       "      <td>virginica</td>\n",
       "    </tr>\n",
       "    <tr>\n",
       "      <th>148</th>\n",
       "      <td>6.2</td>\n",
       "      <td>3.4</td>\n",
       "      <td>5.4</td>\n",
       "      <td>2.3</td>\n",
       "      <td>virginica</td>\n",
       "    </tr>\n",
       "    <tr>\n",
       "      <th>149</th>\n",
       "      <td>5.9</td>\n",
       "      <td>3.0</td>\n",
       "      <td>5.1</td>\n",
       "      <td>1.8</td>\n",
       "      <td>virginica</td>\n",
       "    </tr>\n",
       "  </tbody>\n",
       "</table>\n",
       "<p>150 rows × 5 columns</p>\n",
       "</div>"
      ],
      "text/plain": [
       "     sepal_length  sepal_width  petal_length  petal_width    species\n",
       "0             5.1          3.5           1.4          0.2     setosa\n",
       "1             4.9          3.0           1.4          0.2     setosa\n",
       "2             4.7          3.2           1.3          0.2     setosa\n",
       "3             4.6          3.1           1.5          0.2     setosa\n",
       "4             5.0          3.6           1.4          0.2     setosa\n",
       "..            ...          ...           ...          ...        ...\n",
       "145           6.7          3.0           5.2          2.3  virginica\n",
       "146           6.3          2.5           5.0          1.9  virginica\n",
       "147           6.5          3.0           5.2          2.0  virginica\n",
       "148           6.2          3.4           5.4          2.3  virginica\n",
       "149           5.9          3.0           5.1          1.8  virginica\n",
       "\n",
       "[150 rows x 5 columns]"
      ]
     },
     "execution_count": 21,
     "metadata": {},
     "output_type": "execute_result"
    }
   ],
   "source": [
    "data1"
   ]
  },
  {
   "cell_type": "code",
   "execution_count": 22,
   "id": "0411b1f1-f033-4cf7-b218-c15bb1d535df",
   "metadata": {},
   "outputs": [
    {
     "data": {
      "text/plain": [
       "5.843333333333334"
      ]
     },
     "execution_count": 22,
     "metadata": {},
     "output_type": "execute_result"
    }
   ],
   "source": [
    "np.mean(data1[\"sepal_length\"])"
   ]
  },
  {
   "cell_type": "code",
   "execution_count": 23,
   "id": "f5d8c58f-f2a4-4a11-b263-fb127d623abe",
   "metadata": {},
   "outputs": [
    {
     "data": {
      "text/plain": [
       "nan"
      ]
     },
     "execution_count": 23,
     "metadata": {},
     "output_type": "execute_result"
    }
   ],
   "source": [
    "np.median(data2[\"Age\"])"
   ]
  },
  {
   "cell_type": "code",
   "execution_count": 24,
   "id": "24cc94b6-b234-47a4-8a1d-f4ddf450c9f3",
   "metadata": {},
   "outputs": [
    {
     "name": "stdout",
     "output_type": "stream",
     "text": [
      "<class 'pandas.core.frame.DataFrame'>\n",
      "RangeIndex: 891 entries, 0 to 890\n",
      "Data columns (total 12 columns):\n",
      " #   Column       Non-Null Count  Dtype  \n",
      "---  ------       --------------  -----  \n",
      " 0   PassengerId  891 non-null    int64  \n",
      " 1   Survived     891 non-null    int64  \n",
      " 2   Pclass       891 non-null    int64  \n",
      " 3   Name         891 non-null    object \n",
      " 4   Sex          891 non-null    object \n",
      " 5   Age          714 non-null    float64\n",
      " 6   SibSp        891 non-null    int64  \n",
      " 7   Parch        891 non-null    int64  \n",
      " 8   Ticket       891 non-null    object \n",
      " 9   Fare         891 non-null    float64\n",
      " 10  Cabin        204 non-null    object \n",
      " 11  Embarked     889 non-null    object \n",
      "dtypes: float64(2), int64(5), object(5)\n",
      "memory usage: 83.7+ KB\n"
     ]
    }
   ],
   "source": [
    "data2.info()"
   ]
  },
  {
   "cell_type": "code",
   "execution_count": 25,
   "id": "b4611cae-7773-460d-8b8d-d9874c1cdd26",
   "metadata": {},
   "outputs": [
    {
     "data": {
      "text/plain": [
       "(891, 12)"
      ]
     },
     "execution_count": 25,
     "metadata": {},
     "output_type": "execute_result"
    }
   ],
   "source": [
    "data2.shape"
   ]
  },
  {
   "cell_type": "code",
   "execution_count": 26,
   "id": "dac97282-e0e8-464b-a120-fc013c2f7bb8",
   "metadata": {},
   "outputs": [
    {
     "data": {
      "text/plain": [
       "33"
      ]
     },
     "execution_count": 26,
     "metadata": {},
     "output_type": "execute_result"
    }
   ],
   "source": [
    "import statistics\n",
    "statistics.mode(data)"
   ]
  },
  {
   "cell_type": "code",
   "execution_count": 27,
   "id": "bbfdb846-2e9b-4571-8a21-866fc517edf5",
   "metadata": {},
   "outputs": [
    {
     "data": {
      "text/plain": [
       "PassengerId      0\n",
       "Survived         0\n",
       "Pclass           0\n",
       "Name             0\n",
       "Sex              0\n",
       "Age            177\n",
       "SibSp            0\n",
       "Parch            0\n",
       "Ticket           0\n",
       "Fare             0\n",
       "Cabin          687\n",
       "Embarked         2\n",
       "dtype: int64"
      ]
     },
     "execution_count": 27,
     "metadata": {},
     "output_type": "execute_result"
    }
   ],
   "source": [
    "data2.isnull().sum()"
   ]
  },
  {
   "cell_type": "code",
   "execution_count": 28,
   "id": "cf03c5b3-dcda-4b9f-abf1-1d82bd788507",
   "metadata": {},
   "outputs": [],
   "source": [
    "def cal_mean(data):\n",
    "    sum=0\n",
    "    for i in data:\n",
    "       sum=sum+i\n",
    "    mean=sum/len(data)\n",
    "    return mean\n"
   ]
  },
  {
   "cell_type": "code",
   "execution_count": 29,
   "id": "e66f9503-3c8c-4c2a-a2f2-f74025147e6d",
   "metadata": {},
   "outputs": [
    {
     "data": {
      "text/plain": [
       "34.2"
      ]
     },
     "execution_count": 29,
     "metadata": {},
     "output_type": "execute_result"
    }
   ],
   "source": [
    "cal_mean(data)"
   ]
  },
  {
   "cell_type": "code",
   "execution_count": 30,
   "id": "1911eddc-1cbc-476c-b905-857038df4982",
   "metadata": {},
   "outputs": [],
   "source": [
    "data.append(200)"
   ]
  },
  {
   "cell_type": "code",
   "execution_count": 31,
   "id": "be6cca0e-2533-4e73-be4e-9563ab949e2e",
   "metadata": {},
   "outputs": [
    {
     "data": {
      "text/plain": [
       "[32, 26, 33, 57, 21, 29, 33, 27, 34, 50, 200]"
      ]
     },
     "execution_count": 31,
     "metadata": {},
     "output_type": "execute_result"
    }
   ],
   "source": [
    "data"
   ]
  },
  {
   "cell_type": "code",
   "execution_count": 32,
   "id": "1859f53b-021c-40a0-a0c2-09d5f5eb2b5d",
   "metadata": {},
   "outputs": [
    {
     "data": {
      "text/plain": [
       "49.27272727272727"
      ]
     },
     "execution_count": 32,
     "metadata": {},
     "output_type": "execute_result"
    }
   ],
   "source": [
    "np.mean(data)"
   ]
  },
  {
   "cell_type": "code",
   "execution_count": 33,
   "id": "83fc9329-fd2b-4c88-a54f-91dd1648ba3f",
   "metadata": {},
   "outputs": [
    {
     "name": "stderr",
     "output_type": "stream",
     "text": [
      "C:\\ProgramData\\anaconda3\\Lib\\site-packages\\seaborn\\_oldcore.py:1119: FutureWarning: use_inf_as_na option is deprecated and will be removed in a future version. Convert inf values to NaN before operating instead.\n",
      "  with pd.option_context('mode.use_inf_as_na', True):\n"
     ]
    },
    {
     "data": {
      "text/plain": [
       "<Axes: ylabel='Count'>"
      ]
     },
     "execution_count": 33,
     "metadata": {},
     "output_type": "execute_result"
    },
    {
     "data": {
      "image/png": "[encoded data removed]",
      "text/plain": [
       "<Figure size 640x480 with 1 Axes>"
      ]
     },
     "metadata": {},
     "output_type": "display_data"
    }
   ],
   "source": [
    "import seaborn as sns\n",
    "sns.histplot(data_copy,kde=True)"
   ]
  },
  {
   "cell_type": "code",
   "execution_count": 34,
   "id": "0098f027-0eef-4f50-a3be-253ffe6cd84e",
   "metadata": {},
   "outputs": [
    {
     "data": {
      "text/plain": [
       "array([27.5])"
      ]
     },
     "execution_count": 34,
     "metadata": {},
     "output_type": "execute_result"
    }
   ],
   "source": [
    "np.percentile(data_copy,[25])"
   ]
  },
  {
   "cell_type": "code",
   "execution_count": 35,
   "id": "db86e96b-0510-43c4-9f15-1515c1bd0a45",
   "metadata": {},
   "outputs": [
    {
     "data": {
      "text/plain": [
       "array([32.5])"
      ]
     },
     "execution_count": 35,
     "metadata": {},
     "output_type": "execute_result"
    }
   ],
   "source": [
    "np.percentile(data_copy,[50])"
   ]
  },
  {
   "cell_type": "code",
   "execution_count": 36,
   "id": "881b32fc-4064-44f0-85bc-6fd4266e606d",
   "metadata": {},
   "outputs": [
    {
     "data": {
      "text/plain": [
       "array([33.75])"
      ]
     },
     "execution_count": 36,
     "metadata": {},
     "output_type": "execute_result"
    }
   ],
   "source": [
    "np.percentile(data_copy,[75])"
   ]
  },
  {
   "cell_type": "code",
   "execution_count": 37,
   "id": "fc36ff1a-ca3b-4de0-ad1b-adc7ba34e1de",
   "metadata": {},
   "outputs": [
    {
     "data": {
      "text/plain": [
       "array([57.])"
      ]
     },
     "execution_count": 37,
     "metadata": {},
     "output_type": "execute_result"
    }
   ],
   "source": [
    "np.percentile(data_copy,[100])"
   ]
  },
  {
   "cell_type": "code",
   "execution_count": 38,
   "id": "af9f1f3e-d9df-4fb1-a08b-cc0bd449fcdf",
   "metadata": {},
   "outputs": [],
   "source": [
    "q1,q2,q3,q4=np.percentile(data_copy,[25,50,75,100])"
   ]
  },
  {
   "cell_type": "code",
   "execution_count": 39,
   "id": "c7245cd4-ad9c-4691-a6e8-fb96cd893eca",
   "metadata": {},
   "outputs": [],
   "source": [
    "IQR=q3-q1"
   ]
  },
  {
   "cell_type": "code",
   "execution_count": 40,
   "id": "a5dbf313-fa69-4619-9601-f08423f4849f",
   "metadata": {},
   "outputs": [],
   "source": [
    "lower_fence=q1-(IQR*1.5)\n",
    "upper_fence=q3+(IQR*1.5)"
   ]
  },
  {
   "cell_type": "code",
   "execution_count": 41,
   "id": "7588ac19-5201-4eab-981b-dd23c6ca1b96",
   "metadata": {},
   "outputs": [
    {
     "data": {
      "text/plain": [
       "18.125"
      ]
     },
     "execution_count": 41,
     "metadata": {},
     "output_type": "execute_result"
    }
   ],
   "source": [
    "lower_fence"
   ]
  },
  {
   "cell_type": "code",
   "execution_count": 42,
   "id": "20607547-03ad-4668-986d-19e3cc713d48",
   "metadata": {},
   "outputs": [
    {
     "data": {
      "text/plain": [
       "43.125"
      ]
     },
     "execution_count": 42,
     "metadata": {},
     "output_type": "execute_result"
    }
   ],
   "source": [
    "upper_fence"
   ]
  },
  {
   "cell_type": "code",
   "execution_count": 43,
   "id": "83b99acb-e8fc-47c0-a877-fc7b8cf029af",
   "metadata": {},
   "outputs": [
    {
     "data": {
      "text/plain": [
       "<Axes: >"
      ]
     },
     "execution_count": 43,
     "metadata": {},
     "output_type": "execute_result"
    },
    {
     "data": {
      "image/png": "[encoded data removed]",
      "text/plain": [
       "<Figure size 640x480 with 1 Axes>"
      ]
     },
     "metadata": {},
     "output_type": "display_data"
    }
   ],
   "source": [
    "sns.boxplot(data_copy)"
   ]
  },
  {
   "cell_type": "code",
   "execution_count": 44,
   "id": "779cc0b7-0370-42d6-9a60-9caf01186ef6",
   "metadata": {},
   "outputs": [],
   "source": [
    "data_copy.append(100)"
   ]
  },
  {
   "cell_type": "code",
   "execution_count": 45,
   "id": "5a5d27b9-6c87-409e-825c-461ed27680d6",
   "metadata": {},
   "outputs": [
    {
     "data": {
      "text/plain": [
       "<Axes: >"
      ]
     },
     "execution_count": 45,
     "metadata": {},
     "output_type": "execute_result"
    },
    {
     "data": {
      "image/png": "[encoded data removed]",
      "text/plain": [
       "<Figure size 640x480 with 1 Axes>"
      ]
     },
     "metadata": {},
     "output_type": "display_data"
    }
   ],
   "source": [
    "sns.boxplot(data_copy)"
   ]
  },
  {
   "cell_type": "code",
   "execution_count": 46,
   "id": "c6c1f9f3-12c6-4a8f-a352-82a90ae26b1c",
   "metadata": {},
   "outputs": [
    {
     "data": {
      "text/plain": [
       "100"
      ]
     },
     "execution_count": 46,
     "metadata": {},
     "output_type": "execute_result"
    }
   ],
   "source": [
    "data_copy.pop()"
   ]
  },
  {
   "cell_type": "code",
   "execution_count": 47,
   "id": "5b649907-1908-4330-adf2-c6baced99d90",
   "metadata": {},
   "outputs": [
    {
     "data": {
      "text/plain": [
       "<Axes: >"
      ]
     },
     "execution_count": 47,
     "metadata": {},
     "output_type": "execute_result"
    },
    {
     "data": {
      "image/png": "[encoded data removed]",
      "text/plain": [
       "<Figure size 640x480 with 1 Axes>"
      ]
     },
     "metadata": {},
     "output_type": "display_data"
    }
   ],
   "source": [
    "sns.boxplot(data_copy)"
   ]
  },
  {
   "cell_type": "code",
   "execution_count": 48,
   "id": "3839b10f-a481-45a4-ae80-37a50fc64306",
   "metadata": {},
   "outputs": [
    {
     "data": {
      "text/plain": [
       "109.75999999999999"
      ]
     },
     "execution_count": 48,
     "metadata": {},
     "output_type": "execute_result"
    }
   ],
   "source": [
    "np.var(data_copy)"
   ]
  },
  {
   "cell_type": "code",
   "execution_count": 49,
   "id": "79d5cf03-3939-4358-bf0f-0e0e86fed216",
   "metadata": {},
   "outputs": [
    {
     "data": {
      "text/plain": [
       "10.476640682967036"
      ]
     },
     "execution_count": 49,
     "metadata": {},
     "output_type": "execute_result"
    }
   ],
   "source": [
    "np.std(data_copy)"
   ]
  },
  {
   "cell_type": "code",
   "execution_count": 50,
   "id": "56e7e781-9a6d-41a4-bd28-756e86a12d38",
   "metadata": {},
   "outputs": [
    {
     "data": {
      "text/plain": [
       "121.95555555555555"
      ]
     },
     "execution_count": 50,
     "metadata": {},
     "output_type": "execute_result"
    }
   ],
   "source": [
    "statistics.variance(data_copy)"
   ]
  },
  {
   "cell_type": "code",
   "execution_count": 51,
   "id": "9846fbe6-32c3-4198-9930-eab7909d4c0d",
   "metadata": {},
   "outputs": [
    {
     "data": {
      "text/plain": [
       "109.76"
      ]
     },
     "execution_count": 51,
     "metadata": {},
     "output_type": "execute_result"
    }
   ],
   "source": [
    "statistics.pvariance(data_copy)"
   ]
  },
  {
   "cell_type": "code",
   "execution_count": 52,
   "id": "54001ba4-96c6-4a2b-8b2d-6c2c886ae24f",
   "metadata": {},
   "outputs": [
    {
     "data": {
      "text/plain": [
       "109.76000000000002"
      ]
     },
     "execution_count": 52,
     "metadata": {},
     "output_type": "execute_result"
    }
   ],
   "source": [
    "def cal_var(data):\n",
    "   n=len(data)\n",
    "   mean=sum(data)/n\n",
    "   deviation=[(x-mean)**2 for x in data]\n",
    "   variance=sum(deviation)/n\n",
    "   return variance\n",
    "    \n",
    "cal_var(data_copy)"
   ]
  },
  {
   "cell_type": "code",
   "execution_count": 53,
   "id": "363b1d5c-eda5-4271-ac54-c98ab81edb30",
   "metadata": {},
   "outputs": [
    {
     "data": {
      "text/plain": [
       "109.76000000000002"
      ]
     },
     "execution_count": 53,
     "metadata": {},
     "output_type": "execute_result"
    }
   ],
   "source": [
    "cal_var(data_copy)"
   ]
  },
  {
   "cell_type": "code",
   "execution_count": 54,
   "id": "be3aa046-451d-47bd-9576-8eee3872db97",
   "metadata": {},
   "outputs": [
    {
     "data": {
      "text/html": [
       "<div>\n",
       "<style scoped>\n",
       "    .dataframe tbody tr th:only-of-type {\n",
       "        vertical-align: middle;\n",
       "    }\n",
       "\n",
       "    .dataframe tbody tr th {\n",
       "        vertical-align: top;\n",
       "    }\n",
       "\n",
       "    .dataframe thead th {\n",
       "        text-align: right;\n",
       "    }\n",
       "</style>\n",
       "<table border=\"1\" class=\"dataframe\">\n",
       "  <thead>\n",
       "    <tr style=\"text-align: right;\">\n",
       "      <th></th>\n",
       "      <th>sepal_length</th>\n",
       "      <th>sepal_width</th>\n",
       "      <th>petal_length</th>\n",
       "      <th>petal_width</th>\n",
       "      <th>species</th>\n",
       "    </tr>\n",
       "  </thead>\n",
       "  <tbody>\n",
       "    <tr>\n",
       "      <th>0</th>\n",
       "      <td>5.1</td>\n",
       "      <td>3.5</td>\n",
       "      <td>1.4</td>\n",
       "      <td>0.2</td>\n",
       "      <td>setosa</td>\n",
       "    </tr>\n",
       "    <tr>\n",
       "      <th>1</th>\n",
       "      <td>4.9</td>\n",
       "      <td>3.0</td>\n",
       "      <td>1.4</td>\n",
       "      <td>0.2</td>\n",
       "      <td>setosa</td>\n",
       "    </tr>\n",
       "    <tr>\n",
       "      <th>2</th>\n",
       "      <td>4.7</td>\n",
       "      <td>3.2</td>\n",
       "      <td>1.3</td>\n",
       "      <td>0.2</td>\n",
       "      <td>setosa</td>\n",
       "    </tr>\n",
       "    <tr>\n",
       "      <th>3</th>\n",
       "      <td>4.6</td>\n",
       "      <td>3.1</td>\n",
       "      <td>1.5</td>\n",
       "      <td>0.2</td>\n",
       "      <td>setosa</td>\n",
       "    </tr>\n",
       "    <tr>\n",
       "      <th>4</th>\n",
       "      <td>5.0</td>\n",
       "      <td>3.6</td>\n",
       "      <td>1.4</td>\n",
       "      <td>0.2</td>\n",
       "      <td>setosa</td>\n",
       "    </tr>\n",
       "    <tr>\n",
       "      <th>...</th>\n",
       "      <td>...</td>\n",
       "      <td>...</td>\n",
       "      <td>...</td>\n",
       "      <td>...</td>\n",
       "      <td>...</td>\n",
       "    </tr>\n",
       "    <tr>\n",
       "      <th>145</th>\n",
       "      <td>6.7</td>\n",
       "      <td>3.0</td>\n",
       "      <td>5.2</td>\n",
       "      <td>2.3</td>\n",
       "      <td>virginica</td>\n",
       "    </tr>\n",
       "    <tr>\n",
       "      <th>146</th>\n",
       "      <td>6.3</td>\n",
       "      <td>2.5</td>\n",
       "      <td>5.0</td>\n",
       "      <td>1.9</td>\n",
       "      <td>virginica</td>\n",
       "    </tr>\n",
       "    <tr>\n",
       "      <th>147</th>\n",
       "      <td>6.5</td>\n",
       "      <td>3.0</td>\n",
       "      <td>5.2</td>\n",
       "      <td>2.0</td>\n",
       "      <td>virginica</td>\n",
       "    </tr>\n",
       "    <tr>\n",
       "      <th>148</th>\n",
       "      <td>6.2</td>\n",
       "      <td>3.4</td>\n",
       "      <td>5.4</td>\n",
       "      <td>2.3</td>\n",
       "      <td>virginica</td>\n",
       "    </tr>\n",
       "    <tr>\n",
       "      <th>149</th>\n",
       "      <td>5.9</td>\n",
       "      <td>3.0</td>\n",
       "      <td>5.1</td>\n",
       "      <td>1.8</td>\n",
       "      <td>virginica</td>\n",
       "    </tr>\n",
       "  </tbody>\n",
       "</table>\n",
       "<p>150 rows × 5 columns</p>\n",
       "</div>"
      ],
      "text/plain": [
       "     sepal_length  sepal_width  petal_length  petal_width    species\n",
       "0             5.1          3.5           1.4          0.2     setosa\n",
       "1             4.9          3.0           1.4          0.2     setosa\n",
       "2             4.7          3.2           1.3          0.2     setosa\n",
       "3             4.6          3.1           1.5          0.2     setosa\n",
       "4             5.0          3.6           1.4          0.2     setosa\n",
       "..            ...          ...           ...          ...        ...\n",
       "145           6.7          3.0           5.2          2.3  virginica\n",
       "146           6.3          2.5           5.0          1.9  virginica\n",
       "147           6.5          3.0           5.2          2.0  virginica\n",
       "148           6.2          3.4           5.4          2.3  virginica\n",
       "149           5.9          3.0           5.1          1.8  virginica\n",
       "\n",
       "[150 rows x 5 columns]"
      ]
     },
     "execution_count": 54,
     "metadata": {},
     "output_type": "execute_result"
    }
   ],
   "source": [
    "data1"
   ]
  },
  {
   "cell_type": "code",
   "execution_count": 55,
   "id": "98b2c008-4210-4fdf-ad52-f8eca0efc3b3",
   "metadata": {},
   "outputs": [],
   "source": [
    "data1.drop([\"species\"],axis=1,inplace=True)"
   ]
  },
  {
   "cell_type": "code",
   "execution_count": 56,
   "id": "086b9f4c-ed78-4b8c-8fdf-220a0decc0ca",
   "metadata": {},
   "outputs": [
    {
     "data": {
      "text/html": [
       "<div>\n",
       "<style scoped>\n",
       "    .dataframe tbody tr th:only-of-type {\n",
       "        vertical-align: middle;\n",
       "    }\n",
       "\n",
       "    .dataframe tbody tr th {\n",
       "        vertical-align: top;\n",
       "    }\n",
       "\n",
       "    .dataframe thead th {\n",
       "        text-align: right;\n",
       "    }\n",
       "</style>\n",
       "<table border=\"1\" class=\"dataframe\">\n",
       "  <thead>\n",
       "    <tr style=\"text-align: right;\">\n",
       "      <th></th>\n",
       "      <th>sepal_length</th>\n",
       "      <th>sepal_width</th>\n",
       "      <th>petal_length</th>\n",
       "      <th>petal_width</th>\n",
       "    </tr>\n",
       "  </thead>\n",
       "  <tbody>\n",
       "    <tr>\n",
       "      <th>0</th>\n",
       "      <td>5.1</td>\n",
       "      <td>3.5</td>\n",
       "      <td>1.4</td>\n",
       "      <td>0.2</td>\n",
       "    </tr>\n",
       "    <tr>\n",
       "      <th>1</th>\n",
       "      <td>4.9</td>\n",
       "      <td>3.0</td>\n",
       "      <td>1.4</td>\n",
       "      <td>0.2</td>\n",
       "    </tr>\n",
       "    <tr>\n",
       "      <th>2</th>\n",
       "      <td>4.7</td>\n",
       "      <td>3.2</td>\n",
       "      <td>1.3</td>\n",
       "      <td>0.2</td>\n",
       "    </tr>\n",
       "    <tr>\n",
       "      <th>3</th>\n",
       "      <td>4.6</td>\n",
       "      <td>3.1</td>\n",
       "      <td>1.5</td>\n",
       "      <td>0.2</td>\n",
       "    </tr>\n",
       "    <tr>\n",
       "      <th>4</th>\n",
       "      <td>5.0</td>\n",
       "      <td>3.6</td>\n",
       "      <td>1.4</td>\n",
       "      <td>0.2</td>\n",
       "    </tr>\n",
       "    <tr>\n",
       "      <th>...</th>\n",
       "      <td>...</td>\n",
       "      <td>...</td>\n",
       "      <td>...</td>\n",
       "      <td>...</td>\n",
       "    </tr>\n",
       "    <tr>\n",
       "      <th>145</th>\n",
       "      <td>6.7</td>\n",
       "      <td>3.0</td>\n",
       "      <td>5.2</td>\n",
       "      <td>2.3</td>\n",
       "    </tr>\n",
       "    <tr>\n",
       "      <th>146</th>\n",
       "      <td>6.3</td>\n",
       "      <td>2.5</td>\n",
       "      <td>5.0</td>\n",
       "      <td>1.9</td>\n",
       "    </tr>\n",
       "    <tr>\n",
       "      <th>147</th>\n",
       "      <td>6.5</td>\n",
       "      <td>3.0</td>\n",
       "      <td>5.2</td>\n",
       "      <td>2.0</td>\n",
       "    </tr>\n",
       "    <tr>\n",
       "      <th>148</th>\n",
       "      <td>6.2</td>\n",
       "      <td>3.4</td>\n",
       "      <td>5.4</td>\n",
       "      <td>2.3</td>\n",
       "    </tr>\n",
       "    <tr>\n",
       "      <th>149</th>\n",
       "      <td>5.9</td>\n",
       "      <td>3.0</td>\n",
       "      <td>5.1</td>\n",
       "      <td>1.8</td>\n",
       "    </tr>\n",
       "  </tbody>\n",
       "</table>\n",
       "<p>150 rows × 4 columns</p>\n",
       "</div>"
      ],
      "text/plain": [
       "     sepal_length  sepal_width  petal_length  petal_width\n",
       "0             5.1          3.5           1.4          0.2\n",
       "1             4.9          3.0           1.4          0.2\n",
       "2             4.7          3.2           1.3          0.2\n",
       "3             4.6          3.1           1.5          0.2\n",
       "4             5.0          3.6           1.4          0.2\n",
       "..            ...          ...           ...          ...\n",
       "145           6.7          3.0           5.2          2.3\n",
       "146           6.3          2.5           5.0          1.9\n",
       "147           6.5          3.0           5.2          2.0\n",
       "148           6.2          3.4           5.4          2.3\n",
       "149           5.9          3.0           5.1          1.8\n",
       "\n",
       "[150 rows x 4 columns]"
      ]
     },
     "execution_count": 56,
     "metadata": {},
     "output_type": "execute_result"
    }
   ],
   "source": [
    "data1"
   ]
  },
  {
   "cell_type": "code",
   "execution_count": 57,
   "id": "079a30b2-f434-46c7-8d89-2448cdadc377",
   "metadata": {},
   "outputs": [
    {
     "data": {
      "text/html": [
       "<div>\n",
       "<style scoped>\n",
       "    .dataframe tbody tr th:only-of-type {\n",
       "        vertical-align: middle;\n",
       "    }\n",
       "\n",
       "    .dataframe tbody tr th {\n",
       "        vertical-align: top;\n",
       "    }\n",
       "\n",
       "    .dataframe thead th {\n",
       "        text-align: right;\n",
       "    }\n",
       "</style>\n",
       "<table border=\"1\" class=\"dataframe\">\n",
       "  <thead>\n",
       "    <tr style=\"text-align: right;\">\n",
       "      <th></th>\n",
       "      <th>sepal_length</th>\n",
       "      <th>sepal_width</th>\n",
       "      <th>petal_length</th>\n",
       "      <th>petal_width</th>\n",
       "    </tr>\n",
       "  </thead>\n",
       "  <tbody>\n",
       "    <tr>\n",
       "      <th>sepal_length</th>\n",
       "      <td>0.685694</td>\n",
       "      <td>-0.039268</td>\n",
       "      <td>1.273682</td>\n",
       "      <td>0.516904</td>\n",
       "    </tr>\n",
       "    <tr>\n",
       "      <th>sepal_width</th>\n",
       "      <td>-0.039268</td>\n",
       "      <td>0.188004</td>\n",
       "      <td>-0.321713</td>\n",
       "      <td>-0.117981</td>\n",
       "    </tr>\n",
       "    <tr>\n",
       "      <th>petal_length</th>\n",
       "      <td>1.273682</td>\n",
       "      <td>-0.321713</td>\n",
       "      <td>3.113179</td>\n",
       "      <td>1.296387</td>\n",
       "    </tr>\n",
       "    <tr>\n",
       "      <th>petal_width</th>\n",
       "      <td>0.516904</td>\n",
       "      <td>-0.117981</td>\n",
       "      <td>1.296387</td>\n",
       "      <td>0.582414</td>\n",
       "    </tr>\n",
       "  </tbody>\n",
       "</table>\n",
       "</div>"
      ],
      "text/plain": [
       "              sepal_length  sepal_width  petal_length  petal_width\n",
       "sepal_length      0.685694    -0.039268      1.273682     0.516904\n",
       "sepal_width      -0.039268     0.188004     -0.321713    -0.117981\n",
       "petal_length      1.273682    -0.321713      3.113179     1.296387\n",
       "petal_width       0.516904    -0.117981      1.296387     0.582414"
      ]
     },
     "execution_count": 57,
     "metadata": {},
     "output_type": "execute_result"
    }
   ],
   "source": [
    "data1.cov()"
   ]
  },
  {
   "cell_type": "code",
   "execution_count": 58,
   "id": "da40e34d-9b00-4ff2-b66e-73369de5f367",
   "metadata": {},
   "outputs": [
    {
     "data": {
      "text/plain": [
       "array([[ 0.68569351, -0.03926846,  1.27368233,  0.5169038 ],\n",
       "       [-0.03926846,  0.18800403, -0.32171275, -0.11798121],\n",
       "       [ 1.27368233, -0.32171275,  3.11317942,  1.29638747],\n",
       "       [ 0.5169038 , -0.11798121,  1.29638747,  0.58241432]])"
      ]
     },
     "execution_count": 58,
     "metadata": {},
     "output_type": "execute_result"
    }
   ],
   "source": [
    "import numpy as np\n",
    "np.cov(data1.T)"
   ]
  },
  {
   "cell_type": "code",
   "execution_count": 59,
   "id": "a83a5e36-6318-4f58-8007-a468df8212e9",
   "metadata": {},
   "outputs": [
    {
     "data": {
      "text/html": [
       "<div>\n",
       "<style scoped>\n",
       "    .dataframe tbody tr th:only-of-type {\n",
       "        vertical-align: middle;\n",
       "    }\n",
       "\n",
       "    .dataframe tbody tr th {\n",
       "        vertical-align: top;\n",
       "    }\n",
       "\n",
       "    .dataframe thead th {\n",
       "        text-align: right;\n",
       "    }\n",
       "</style>\n",
       "<table border=\"1\" class=\"dataframe\">\n",
       "  <thead>\n",
       "    <tr style=\"text-align: right;\">\n",
       "      <th></th>\n",
       "      <th>sepal_length</th>\n",
       "      <th>sepal_width</th>\n",
       "      <th>petal_length</th>\n",
       "      <th>petal_width</th>\n",
       "    </tr>\n",
       "  </thead>\n",
       "  <tbody>\n",
       "    <tr>\n",
       "      <th>sepal_length</th>\n",
       "      <td>1.000000</td>\n",
       "      <td>-0.109369</td>\n",
       "      <td>0.871754</td>\n",
       "      <td>0.817954</td>\n",
       "    </tr>\n",
       "    <tr>\n",
       "      <th>sepal_width</th>\n",
       "      <td>-0.109369</td>\n",
       "      <td>1.000000</td>\n",
       "      <td>-0.420516</td>\n",
       "      <td>-0.356544</td>\n",
       "    </tr>\n",
       "    <tr>\n",
       "      <th>petal_length</th>\n",
       "      <td>0.871754</td>\n",
       "      <td>-0.420516</td>\n",
       "      <td>1.000000</td>\n",
       "      <td>0.962757</td>\n",
       "    </tr>\n",
       "    <tr>\n",
       "      <th>petal_width</th>\n",
       "      <td>0.817954</td>\n",
       "      <td>-0.356544</td>\n",
       "      <td>0.962757</td>\n",
       "      <td>1.000000</td>\n",
       "    </tr>\n",
       "  </tbody>\n",
       "</table>\n",
       "</div>"
      ],
      "text/plain": [
       "              sepal_length  sepal_width  petal_length  petal_width\n",
       "sepal_length      1.000000    -0.109369      0.871754     0.817954\n",
       "sepal_width      -0.109369     1.000000     -0.420516    -0.356544\n",
       "petal_length      0.871754    -0.420516      1.000000     0.962757\n",
       "petal_width       0.817954    -0.356544      0.962757     1.000000"
      ]
     },
     "execution_count": 59,
     "metadata": {},
     "output_type": "execute_result"
    }
   ],
   "source": [
    "data1.corr()"
   ]
  },
  {
   "cell_type": "code",
   "execution_count": 60,
   "id": "c7305060-5a27-409b-9020-a1223859c78f",
   "metadata": {},
   "outputs": [],
   "source": [
    "import seaborn as sns"
   ]
  },
  {
   "cell_type": "code",
   "execution_count": 61,
   "id": "7177c6a9-b301-4a7f-9ee9-176b75e97638",
   "metadata": {},
   "outputs": [
    {
     "data": {
      "text/plain": [
       "<Axes: xlabel='petal_width', ylabel='petal_length'>"
      ]
     },
     "execution_count": 61,
     "metadata": {},
     "output_type": "execute_result"
    },
    {
     "data": {
      "image/png": "[encoded data removed]",
      "text/plain": [
       "<Figure size 640x480 with 1 Axes>"
      ]
     },
     "metadata": {},
     "output_type": "display_data"
    }
   ],
   "source": [
    "sns.scatterplot(x=data1[\"petal_width\"],y=data1[\"petal_length\"])"
   ]
  },
  {
   "cell_type": "code",
   "execution_count": 62,
   "id": "06c5fad5-a677-489b-a257-ff483f4ab6c5",
   "metadata": {},
   "outputs": [
    {
     "data": {
      "text/plain": [
       "<Axes: xlabel='petal_length', ylabel='sepal_width'>"
      ]
     },
     "execution_count": 62,
     "metadata": {},
     "output_type": "execute_result"
    },
    {
     "data": {
      "image/png": "[encoded data removed]",
      "text/plain": [
       "<Figure size 640x480 with 1 Axes>"
      ]
     },
     "metadata": {},
     "output_type": "display_data"
    }
   ],
   "source": [
    "sns.scatterplot(x=data1[\"petal_length\"],y=data1[\"sepal_width\"])"
   ]
  },
  {
   "cell_type": "code",
   "execution_count": 63,
   "id": "a3f941bf-d35c-4d00-b2d7-c688f6aaccbd",
   "metadata": {},
   "outputs": [],
   "source": [
    "data3=np.random.normal(0.5,0.2,1000)"
   ]
  },
  {
   "cell_type": "code",
   "execution_count": 64,
   "id": "4d549fb5-361d-470b-955d-460fc4b5672e",
   "metadata": {},
   "outputs": [
    {
     "data": {
      "text/plain": [
       "array([ 0.67759752,  0.48825664,  0.39115982,  0.72288732,  0.80682179,\n",
       "        0.41802802,  0.66158372,  0.37517056,  0.51452798,  0.66727531,\n",
       "        0.53322613,  0.46052635,  0.36249014,  0.52140475,  0.39732672,\n",
       "        0.6204284 ,  0.88423761,  0.42822023,  0.21874443,  0.73243717,\n",
       "        0.43327742,  0.60787618,  0.53281183,  0.33061642,  0.49297803,\n",
       "        0.53108153,  0.28258578,  0.33588844,  0.37279218,  0.32410774,\n",
       "        0.44999447,  0.2084685 ,  0.50589191,  0.77334278,  0.76431393,\n",
       "        0.53664679,  0.70385937,  0.80111559,  0.57159156,  0.77865517,\n",
       "        0.63272672,  0.58522538,  0.49226856,  0.22337437,  0.36950978,\n",
       "        0.81258485,  0.30198154,  0.54382022,  0.23045957,  0.64824485,\n",
       "        0.42414717,  0.48019298,  0.46683273,  0.80330653,  0.73025196,\n",
       "        0.57134339,  0.70620936,  0.87930059,  0.87052066,  0.48424198,\n",
       "        0.54955089,  0.85110134,  0.77467145,  0.31309835,  0.72055162,\n",
       "        0.31873569,  0.20770851,  0.47679626,  0.69980456,  0.26309349,\n",
       "        0.57694971,  0.57800973,  0.34398015,  0.44135146,  0.3911376 ,\n",
       "        0.70874796,  0.36353614,  0.26896829,  0.32064522,  0.30192934,\n",
       "        0.08420832,  0.53618353,  0.60506614,  0.72203816,  0.68082805,\n",
       "        0.32037274,  0.7018245 , -0.03661374,  0.3285843 ,  0.55119664,\n",
       "        0.33900642,  0.24592434,  0.50500357,  0.45375819,  0.61252192,\n",
       "        0.82094376,  0.54256547,  0.03652407,  0.29569003,  0.41253846,\n",
       "        0.44022684,  0.63504944,  0.48691838,  0.8219117 ,  0.5359644 ,\n",
       "        0.58420133,  0.46869219,  0.39515176,  0.90300928,  0.17045746,\n",
       "        0.49296721,  0.32864526,  0.72151373,  0.66095653,  0.67682133,\n",
       "        0.23305028,  0.4779032 ,  0.49582485,  0.39331232,  0.42253675,\n",
       "        0.31292115,  0.33883877,  0.41628834,  0.72504212,  0.46374002,\n",
       "        0.32220011,  0.44857608,  0.57229142,  0.69695218,  0.28696071,\n",
       "        0.51896129,  0.30229505,  0.31699702,  0.58758479,  0.54358685,\n",
       "        0.70595004,  0.44527997,  0.54051719,  0.29552432,  0.52420155,\n",
       "        0.79377295,  0.3559169 ,  0.49331335,  0.36141313,  0.33800563,\n",
       "        0.74879987,  0.41602191,  0.62719515,  0.56704104,  0.6061324 ,\n",
       "        0.34282618,  0.50230133,  0.29405242,  0.33514198,  0.77829482,\n",
       "        0.6998712 ,  0.33291844,  0.98541097,  0.66601572,  0.731465  ,\n",
       "        0.35965763,  0.49636316,  0.50997591,  0.26842462,  0.46698344,\n",
       "        0.03100096,  0.58769507,  0.33021177,  0.05678386,  0.60591048,\n",
       "        0.49016032,  0.29022407,  0.16048169,  0.87864097,  0.29318199,\n",
       "        0.6308244 ,  0.32727973,  0.7165958 ,  0.43212266,  0.97302375,\n",
       "        0.32721537,  0.39991441,  0.19500155,  0.41091361,  0.32558926,\n",
       "        0.69445118,  0.57075793,  0.65912062,  0.54377383,  0.86183211,\n",
       "        0.51283624,  0.63686276,  0.25783136,  0.71191959,  0.66814074,\n",
       "        0.79144209,  0.51995507,  0.49420284,  0.58448941,  0.50691145,\n",
       "        0.51050061,  0.43863486,  0.24656692,  0.6678351 ,  0.03580465,\n",
       "        0.42018337,  0.40662671,  0.73280227,  0.85647091,  0.4333191 ,\n",
       "        0.53863302,  0.49830479,  0.56098085,  0.43471817,  0.51989319,\n",
       "        0.55889247,  0.34759569,  0.54219043,  0.31582232,  0.3687574 ,\n",
       "        0.28909575,  0.38801681,  0.08475493,  0.47943044,  0.57715099,\n",
       "        0.53888009,  0.44113654, -0.06385778,  0.48007485,  0.29177118,\n",
       "        0.54056992,  0.22963067,  0.09637965,  0.53510182,  0.65268478,\n",
       "        0.62553195,  0.52188374,  0.38799975,  0.58973791,  0.5751027 ,\n",
       "        1.03902267,  0.54547358,  0.48493734,  0.75568279,  0.05914012,\n",
       "        0.55520584,  0.31369988,  0.39751268,  0.36835964,  0.43151241,\n",
       "        0.5083234 ,  0.21930061,  0.51048474,  0.48682726,  0.82864903,\n",
       "        0.66641314,  0.41328875,  0.57493125,  0.24088171,  0.45936021,\n",
       "        0.93625846,  0.64506671,  0.49523784,  0.95882578,  0.19909336,\n",
       "        0.33592499,  0.61379118,  0.54309556,  0.43037592,  0.54911551,\n",
       "        0.48302862,  0.93037033,  0.38825944,  0.52241732,  0.69063649,\n",
       "        0.26967132,  0.39054189,  0.77204819,  0.32049969,  0.76014108,\n",
       "        0.24469007,  0.52241736,  0.74102844,  0.38544093,  0.52508715,\n",
       "        0.51136741,  0.41058374,  0.18490742,  0.57851053,  0.30133841,\n",
       "        0.59858371,  0.48262667,  0.49470398,  0.36941624,  0.42930603,\n",
       "        0.35409771,  0.53039789,  0.62142788,  0.65979243,  0.57540163,\n",
       "        0.46174886,  0.61465567,  0.21506187,  0.54605777,  0.7423082 ,\n",
       "        0.32747805,  0.61728804,  0.42749603,  0.70113416,  0.18512714,\n",
       "        0.35655652,  0.49158556,  0.48647068,  0.22204508,  0.11907008,\n",
       "        0.22471006,  0.91346323,  0.43644333,  0.25880299,  0.6114664 ,\n",
       "        0.57837294,  0.25437965,  0.18290723,  0.46053488,  0.71816197,\n",
       "        0.54629402,  0.98473263,  0.78081696,  0.42881396,  0.35089066,\n",
       "        0.57781432,  0.24470884,  0.61979521,  0.54405543,  0.68610453,\n",
       "        0.32717058,  0.63883265,  0.75416274,  0.74998505,  0.38426209,\n",
       "        0.71351455,  0.40634481,  0.35912157,  0.54715343,  0.79230015,\n",
       "        0.51725344,  0.32004285,  0.4928339 ,  0.55732864,  0.41520896,\n",
       "        0.65302877,  0.59237146,  0.59578758, -0.04154075,  0.51232799,\n",
       "        0.77104931,  0.51695641,  0.64759865,  0.2694711 ,  0.67533807,\n",
       "        0.55233512,  0.54465588,  0.11178954,  0.63187831,  0.5444994 ,\n",
       "        0.54539448,  0.48454893,  0.54477932,  0.64007992,  0.81451621,\n",
       "        0.35196633,  0.54779973,  0.17015654,  0.83126883,  0.70433572,\n",
       "        0.45502347,  0.62628742,  0.60854804,  0.54316966,  0.47924683,\n",
       "        0.38018249,  0.6195455 ,  0.47891384,  0.55218577,  0.62829801,\n",
       "        0.20290839,  0.49397579,  0.77337802,  0.42981993,  0.95822631,\n",
       "        0.66400332,  0.53618546,  0.4612229 ,  0.41937751,  0.24553806,\n",
       "        0.69266785,  0.41644535,  0.48108433,  0.15749118,  0.48272861,\n",
       "        0.47442942,  0.80539291,  0.55034852,  0.52420504,  0.47564044,\n",
       "        0.38932113,  0.08579907,  0.28764878,  0.53619627,  0.7221686 ,\n",
       "        0.2463983 ,  0.55013583,  0.34389896,  0.67553302,  0.64138772,\n",
       "        0.40957156,  0.71516593,  0.79780933,  0.49873801,  0.70297763,\n",
       "        0.36640782,  0.27960636,  0.643558  ,  0.07238959,  0.45393497,\n",
       "        0.69222638,  0.01394125,  0.32815915,  0.38945515,  0.51311882,\n",
       "        0.81882638,  0.38328018,  0.63586278,  0.84954316,  0.4793798 ,\n",
       "        0.22999271,  0.63597908,  0.688326  ,  0.54141132,  0.44466124,\n",
       "        0.48696171,  0.25406322,  0.59325144,  0.37117396,  0.35442533,\n",
       "        0.66053989,  0.41395933,  0.52365613,  0.31067388,  0.4930677 ,\n",
       "        0.49925888,  0.57153654,  0.57737802,  0.26053908,  0.35269038,\n",
       "        0.71432174,  0.50083644,  0.54831724,  0.72920802,  0.54306696,\n",
       "        0.42107439,  0.4242916 ,  0.29019924,  0.60430971,  0.56789914,\n",
       "        0.51339438,  0.81548023,  0.57421702,  0.47978757,  0.42041388,\n",
       "        0.64769477,  0.72924888,  0.22181605,  0.87158485,  0.68397591,\n",
       "        0.60834351,  0.67449243,  0.95939939,  0.61012601,  0.5072672 ,\n",
       "        0.46640326,  0.38870864,  0.66788268,  0.91183454,  0.75372178,\n",
       "        0.63814113,  0.51264557,  0.86018276,  0.63126893,  0.75355056,\n",
       "        0.47893843,  0.67755765,  0.57544069,  0.48773249,  0.17176196,\n",
       "        0.61504407,  0.68050714,  0.3051187 ,  0.47538951,  0.37689081,\n",
       "        0.34332817,  0.46394538,  0.32484919,  0.63225805,  0.5657865 ,\n",
       "        0.51743798,  0.32809174,  0.33543053,  0.60973134,  0.39127683,\n",
       "        0.76770688,  0.20817458,  0.69641413,  0.54809747,  0.3799502 ,\n",
       "        0.41589159,  0.40939487,  0.43764713,  0.80854023,  0.28789349,\n",
       "        0.14161598,  0.19731991,  0.58899994,  0.35284844,  0.59331007,\n",
       "        0.72973577,  0.81842919,  0.81231191,  0.85340697,  0.71562871,\n",
       "        0.45316139,  0.46727645,  0.53322544,  0.33968522,  0.40733218,\n",
       "        0.42156362,  0.73579154,  0.39186713,  0.56381277,  0.42346961,\n",
       "        0.6861435 ,  0.56938744,  0.2686898 ,  0.37306032,  0.65368077,\n",
       "        0.51603264,  0.55568904,  0.12207735,  0.30150959,  0.38149351,\n",
       "        0.26371098,  0.5471121 ,  0.24142049,  0.79614116,  0.58400713,\n",
       "        0.67849896,  0.2031045 ,  0.75190662,  0.28587807,  0.646971  ,\n",
       "        0.33323301,  0.39087494,  0.40558416,  0.4489761 ,  0.39016571,\n",
       "        0.0295571 ,  0.71145932,  0.33170111,  0.23848351,  0.56599737,\n",
       "        0.37694682,  0.77286444,  0.50477827,  0.37785136,  0.4479327 ,\n",
       "        0.50180199,  0.76416011,  0.58193358,  0.34365512,  0.51599721,\n",
       "        0.54543921,  0.48440731,  0.42521596,  0.30586419,  0.53512853,\n",
       "        0.66920316,  0.9053784 ,  0.82679043,  0.53224678,  0.60410324,\n",
       "        0.30913433,  0.45033602,  0.48251789,  0.30690707,  0.24078466,\n",
       "        0.58166892,  0.48639502,  0.55582817,  0.63998903,  0.35829888,\n",
       "        0.36233266, -0.04463227,  0.81651853,  0.32331869,  0.45050604,\n",
       "        0.35334679,  0.85206077,  0.4679552 ,  0.4533632 ,  0.70602814,\n",
       "        0.10859376,  0.14064975,  0.27860288,  0.66131422,  0.99612897,\n",
       "        0.51585248,  0.72683515,  0.5896061 ,  0.4156522 ,  0.6118002 ,\n",
       "        0.03616843,  0.54312182,  0.26628025,  0.46384776,  0.32211613,\n",
       "        0.53406748,  0.47434651,  0.24290247,  0.33750953,  0.00680179,\n",
       "        0.57004857,  0.7935712 ,  0.38845795,  0.63955377,  0.58240665,\n",
       "        0.3969777 ,  0.37818479,  0.46117929,  0.38714672,  0.58060095,\n",
       "        0.7803065 ,  0.91005525,  0.2872511 ,  0.47306971,  0.49525758,\n",
       "        0.38685283,  0.32890482,  0.31328822,  0.6301807 ,  0.19020819,\n",
       "        0.65775932,  0.31949625,  0.35626586,  0.47610785,  0.48684398,\n",
       "        0.39937959,  0.44912064,  0.52914851,  0.47557097,  0.02152964,\n",
       "        0.57733995,  0.38622044,  0.57372207,  0.19157573,  0.60989986,\n",
       "        0.52793226,  0.31736174,  0.7695834 ,  0.38078325,  0.4732028 ,\n",
       "        0.4996177 ,  0.45374246,  0.64620494,  0.68143356,  0.26189881,\n",
       "        0.03544418,  0.38906669,  0.54526203,  0.32441337,  0.56479368,\n",
       "        0.7127355 ,  0.2903222 ,  0.31211931,  0.47105924,  0.44881051,\n",
       "        0.54028699,  0.53956719,  0.54323601,  0.75118287,  0.43930795,\n",
       "        0.24856101,  0.62736104,  0.35116325,  0.46258356,  0.55869014,\n",
       "        0.76017935,  0.46437039,  0.48502833, -0.07471053,  0.72772255,\n",
       "        0.3852821 ,  0.58280443,  0.70600605,  0.37272646,  0.56497138,\n",
       "        0.05075304,  0.44194673,  0.14677425,  0.10822059,  0.6010456 ,\n",
       "        0.20468734,  0.55835467,  0.73511122,  0.64532828,  0.52904027,\n",
       "        0.56620355,  0.48255648,  0.38465468,  0.24672073,  0.78314441,\n",
       "        0.78984783,  0.3924064 ,  0.90636436,  0.46193495, -0.07116525,\n",
       "        0.20687501,  0.33841588,  0.69926449,  0.59089623,  0.87597769,\n",
       "        0.55726374,  0.56059393,  0.42386479,  0.21998249,  0.10129992,\n",
       "        0.42482065,  0.18012895,  0.1397334 ,  0.34602617,  0.54440064,\n",
       "        0.37566951,  0.59371146,  0.33031201,  0.65905648,  0.15606735,\n",
       "        0.20416343,  0.17532295,  0.45980925,  0.66714058,  0.32646359,\n",
       "        0.37284679,  0.47585447,  0.45597727,  0.75383929,  0.83134327,\n",
       "        0.69483368,  0.66542967,  0.4251093 ,  0.4294418 ,  0.60425689,\n",
       "        0.53671206,  0.59913559,  0.83273884,  0.63119575,  0.28455361,\n",
       "        0.43650093,  0.32837705,  0.31942653,  0.290406  ,  0.28500455,\n",
       "        0.71688802,  0.71143946,  0.20833037,  0.50344459,  0.47555058,\n",
       "        0.83267426,  0.6831873 ,  0.45276084,  0.67772342,  0.41383236,\n",
       "        0.65090238,  0.52257448,  0.83505383,  0.35390802,  0.32262597,\n",
       "        0.92940894,  0.73763687,  0.49177701,  0.58227888,  0.48205406,\n",
       "        0.7516067 ,  0.53709346,  0.3392384 ,  0.31940634,  0.63258365,\n",
       "        0.33834716,  0.23736862,  0.37065771,  0.63915936,  0.09698767,\n",
       "        0.47974598,  0.36969823,  0.40934002,  0.35385311,  0.29578298,\n",
       "        0.8192981 ,  0.37080698,  0.47390495,  0.56106776,  0.26780223,\n",
       "        0.8396087 ,  0.6736899 ,  0.44581324,  0.69182833,  0.3309148 ,\n",
       "        1.02217194,  0.59478006,  0.86540566,  0.24864033,  0.40790569,\n",
       "        0.51210532,  0.27237095,  0.43708432,  0.3615136 ,  0.63586347,\n",
       "        0.13677656,  0.16361588,  0.59821854,  0.10139939,  0.50128521,\n",
       "        0.22379937,  0.45362647,  0.56263243,  0.20322263,  0.55337147,\n",
       "        0.76521908,  0.74048063,  0.37092869,  0.45704394,  0.88836546,\n",
       "        0.0922263 ,  0.75760737,  0.49886428,  0.08421806,  0.79504145,\n",
       "        0.52941016,  0.44272444,  0.50501638,  0.46420423,  0.18429462,\n",
       "        0.55331928,  0.46465171,  0.20626474,  0.61027514,  0.5189383 ,\n",
       "        0.41685363,  0.01578222,  0.47080581,  0.75112411,  0.36541729,\n",
       "        0.55421521,  0.58043783,  0.70346472,  0.58218129,  0.16420776,\n",
       "        0.54744643,  0.42029149,  0.30132003,  0.43014824,  0.52719248,\n",
       "        0.77115815,  0.04630199,  0.49119673,  0.55228988,  0.17597349,\n",
       "        0.47006544,  0.54925283,  0.70703731,  0.56098936,  0.47312059,\n",
       "        0.7843678 ,  0.30442069,  0.25885513,  0.34731311,  0.89243709,\n",
       "        0.77508283,  0.51975559,  0.20013382,  0.21331236,  0.17572708,\n",
       "        0.44514921,  0.38405552,  0.48140806,  0.64019169,  0.66423881,\n",
       "        0.6741044 ,  0.85953822,  0.23462577,  0.51693441,  0.0937085 ,\n",
       "        0.6139587 ,  0.55837992,  0.43415892,  0.82703692,  0.35086601,\n",
       "        0.58403667,  0.64207698,  0.62922079,  0.38597706,  0.79356915,\n",
       "        0.11813198,  0.7037504 ,  0.59925794,  0.16394686,  0.67924822,\n",
       "        0.35600302,  0.64069383,  0.60130081,  0.40747641,  0.32215742,\n",
       "        0.46840007,  0.48981542,  0.68130421,  0.93442854,  0.33332203,\n",
       "        0.07774835,  0.55748214,  0.30390231,  0.18344648,  0.73487515,\n",
       "        0.34522047,  0.61267706,  0.5019126 ,  0.61596002,  0.33558681,\n",
       "        0.66461577,  0.28326894,  0.83583914,  0.46999955,  0.81561055,\n",
       "        0.25792221,  0.60382095,  0.03937292,  0.34399735,  0.74092258,\n",
       "        0.38927448,  0.54721206,  0.77496504,  0.37691455,  0.71778088,\n",
       "        0.51655582,  0.44424406,  0.17041208,  0.23397107,  0.36462216,\n",
       "        0.65505709,  0.93226735,  0.47386153,  0.27890789,  0.47964574,\n",
       "        0.5358587 ,  0.27886991,  0.46729038,  0.55897998,  0.45758666,\n",
       "        0.5300487 ,  0.78369062,  0.663604  ,  0.52634867,  0.37949419,\n",
       "        0.65480424,  0.5861851 ,  0.65293897,  0.28449926,  0.62637643,\n",
       "        0.54522832,  0.4777539 ,  0.42762706,  0.69717657,  0.22952961,\n",
       "        0.63128563,  0.23782392,  0.90010871,  0.61731145,  0.48943072,\n",
       "        0.66650301,  0.3850427 ,  0.32523271,  0.53861945,  0.53858598,\n",
       "        0.54676477,  0.50772311,  0.84900971,  0.40313155,  0.32599094,\n",
       "        0.60155103,  0.92454622,  0.63284122,  0.62095735,  0.59454012])"
      ]
     },
     "execution_count": 64,
     "metadata": {},
     "output_type": "execute_result"
    }
   ],
   "source": [
    "data3"
   ]
  },
  {
   "cell_type": "code",
   "execution_count": 65,
   "id": "6600d5ce-b67a-491f-9fcf-782ebdba7e87",
   "metadata": {},
   "outputs": [
    {
     "name": "stderr",
     "output_type": "stream",
     "text": [
      "C:\\ProgramData\\anaconda3\\Lib\\site-packages\\seaborn\\_oldcore.py:1119: FutureWarning: use_inf_as_na option is deprecated and will be removed in a future version. Convert inf values to NaN before operating instead.\n",
      "  with pd.option_context('mode.use_inf_as_na', True):\n"
     ]
    },
    {
     "data": {
      "text/plain": [
       "<Axes: ylabel='Count'>"
      ]
     },
     "execution_count": 65,
     "metadata": {},
     "output_type": "execute_result"
    },
    {
     "data": {
      "image/png": "[encoded data removed]",
      "text/plain": [
       "<Figure size 640x480 with 1 Axes>"
      ]
     },
     "metadata": {},
     "output_type": "display_data"
    }
   ],
   "source": [
    "sns.histplot(data3,kde=True)"
   ]
  },
  {
   "cell_type": "code",
   "execution_count": 66,
   "id": "d0ea8ecb-9f49-4853-855e-ea4d32816943",
   "metadata": {},
   "outputs": [
    {
     "data": {
      "text/plain": [
       "0.4944160692168586"
      ]
     },
     "execution_count": 66,
     "metadata": {},
     "output_type": "execute_result"
    }
   ],
   "source": [
    "np.mean(data3)"
   ]
  },
  {
   "cell_type": "code",
   "execution_count": 67,
   "id": "e7318706-02d6-4ca6-a020-4445ad500194",
   "metadata": {},
   "outputs": [
    {
     "data": {
      "text/plain": [
       "0.4944534096803668"
      ]
     },
     "execution_count": 67,
     "metadata": {},
     "output_type": "execute_result"
    }
   ],
   "source": [
    "np.median(data3)"
   ]
  },
  {
   "cell_type": "code",
   "execution_count": 68,
   "id": "6047b888-ebf7-4640-b996-1071d45fa5e4",
   "metadata": {},
   "outputs": [],
   "source": [
    "import numpy as np"
   ]
  },
  {
   "cell_type": "code",
   "execution_count": 69,
   "id": "2902dfdc-0722-49fd-b568-de33fbe23b72",
   "metadata": {},
   "outputs": [],
   "source": [
    "data4=np.random.lognormal(3,1,1000)"
   ]
  },
  {
   "cell_type": "code",
   "execution_count": 70,
   "id": "8801808c-497d-4786-b768-4730393cd686",
   "metadata": {},
   "outputs": [
    {
     "data": {
      "text/plain": [
       "array([1.43818748e+01, 1.91504127e+01, 9.46429675e+00, 2.51145940e+01,\n",
       "       4.47562921e+00, 5.39949123e+01, 1.37468817e+01, 6.55213751e+01,\n",
       "       5.71070823e+01, 5.89191628e-01, 3.67537787e+01, 1.22024906e+02,\n",
       "       2.16276605e+01, 3.02239966e+01, 9.92761389e+00, 1.10501777e+01,\n",
       "       3.20170624e+01, 2.21691379e+00, 1.18643460e+01, 5.97794306e+00,\n",
       "       2.62383115e+01, 1.08952185e+02, 2.68978627e+02, 1.14109946e+01,\n",
       "       6.24782339e+00, 2.63752261e+01, 2.83056915e+01, 4.05730799e+00,\n",
       "       2.18496042e+01, 2.03946207e+01, 1.44470402e+01, 4.72048168e+00,\n",
       "       7.00755535e+00, 3.03331755e+01, 6.65082542e+01, 1.04821229e+01,\n",
       "       1.89513213e+01, 1.72206937e+01, 1.18918817e+01, 4.93568408e+01,\n",
       "       4.23097497e+01, 2.88677171e+01, 5.28299414e+01, 3.55760276e+01,\n",
       "       1.76592673e+01, 3.86652345e+00, 2.48497600e+01, 8.35308242e+01,\n",
       "       2.43096293e+02, 1.56863642e+01, 1.50791744e+01, 3.29440752e+01,\n",
       "       1.06461191e+01, 9.31146985e+00, 3.28600467e+01, 4.13067542e+01,\n",
       "       1.28305449e+01, 4.46077239e+01, 2.99829814e+01, 7.66555712e+01,\n",
       "       6.78922956e+00, 5.10725601e+00, 2.99921415e+01, 4.23925227e+01,\n",
       "       3.90455251e+01, 4.64582768e+01, 6.18134940e+01, 3.43771849e+01,\n",
       "       3.29887182e+01, 3.46986724e+00, 6.73439701e+00, 4.67418845e+01,\n",
       "       4.67566295e+00, 2.93020161e+01, 8.41282932e+00, 5.10756940e+01,\n",
       "       4.06865115e+01, 2.18557081e+01, 2.90659510e+01, 7.06657352e+01,\n",
       "       5.02279458e+01, 4.37057286e+01, 7.38560691e+01, 2.79103362e+01,\n",
       "       1.77073517e+01, 2.31188435e+01, 8.24447233e+00, 1.30161844e+01,\n",
       "       9.72639289e+00, 3.69620698e+01, 4.38581465e+01, 6.53789066e+00,\n",
       "       2.55830532e+01, 2.48080482e+01, 3.22397605e+01, 1.30727060e+01,\n",
       "       1.10435468e+01, 3.28217117e+01, 1.68550757e+01, 2.20002009e+01,\n",
       "       1.41977314e+01, 6.07206853e+02, 3.89186810e+01, 3.43942826e+01,\n",
       "       4.23338261e+01, 1.77400048e+01, 2.59260877e+01, 3.20617042e+01,\n",
       "       1.71741531e+01, 2.49175231e+01, 2.69872645e+02, 2.15910756e+01,\n",
       "       1.64359847e+01, 3.08569568e+01, 5.93366739e+01, 5.03462543e+01,\n",
       "       2.01679439e+01, 1.84048971e+01, 9.06752296e+00, 8.55811087e+01,\n",
       "       1.89522632e+01, 4.09521842e+01, 1.97066251e+01, 2.24204655e+01,\n",
       "       1.01273257e+01, 7.45050318e+01, 6.64209440e+01, 5.21370760e+01,\n",
       "       1.84066231e+01, 1.75665627e+02, 6.79588430e+00, 2.29681655e+01,\n",
       "       5.21675236e+01, 4.80214100e+01, 9.29552744e+00, 1.07824232e+01,\n",
       "       6.71660748e+00, 1.23223477e+00, 5.25006713e+00, 2.55827461e+01,\n",
       "       4.72132788e+00, 1.18766309e+01, 3.70511960e+01, 5.23898783e+01,\n",
       "       1.05973128e+01, 1.77254756e+01, 4.02206652e+01, 6.82877944e+00,\n",
       "       4.37455127e+00, 7.28289528e+01, 1.73201670e+01, 1.01763909e+01,\n",
       "       1.00468097e+01, 7.06376903e+00, 9.33634413e+01, 1.21059599e+01,\n",
       "       9.93709276e+00, 1.13850862e+01, 2.58807102e+01, 9.26463187e+00,\n",
       "       2.77156305e+01, 2.06965208e+01, 5.65517630e+00, 2.01529155e+01,\n",
       "       2.21188646e+00, 3.35319691e+01, 1.06639868e+02, 4.18538114e+00,\n",
       "       7.10639518e+01, 3.69861094e+01, 5.42632128e+00, 8.63127558e+00,\n",
       "       8.46024544e+01, 9.59311263e+00, 1.68254590e+01, 4.68507222e+01,\n",
       "       9.80389426e+00, 6.72514200e+01, 5.42930733e+00, 7.86787894e+00,\n",
       "       7.22383702e+01, 3.24360857e+01, 1.74345224e+01, 2.28789942e+01,\n",
       "       1.47927686e+01, 2.75174410e+01, 5.65613186e+00, 9.51509854e+00,\n",
       "       3.23782584e+01, 1.67122309e+01, 2.93823723e+00, 1.64324605e+01,\n",
       "       5.04360113e+00, 3.77362110e+01, 7.37365386e+00, 7.82965932e+00,\n",
       "       1.53780029e+01, 4.20061264e+00, 1.54851032e+01, 4.94915739e+01,\n",
       "       2.14511883e+01, 7.19443305e+00, 5.10037384e+01, 3.58830421e+01,\n",
       "       1.56178964e+01, 9.35313797e+00, 4.31333657e+01, 4.10827472e+01,\n",
       "       1.55714709e+01, 1.65033952e+01, 2.50955313e+01, 1.97143404e+01,\n",
       "       3.81970173e+01, 6.02486843e+00, 3.23135790e+01, 3.67026789e+01,\n",
       "       3.72968533e+01, 8.03500663e+00, 8.65424501e+00, 5.26644534e+01,\n",
       "       4.29563914e+01, 4.09077270e+01, 3.85478670e+01, 3.19529969e+01,\n",
       "       5.44646126e+00, 1.80538251e+01, 1.05601127e+01, 5.17767386e+01,\n",
       "       7.31968510e+00, 6.26045757e+01, 6.08213673e+00, 2.90393466e+00,\n",
       "       1.03993061e+02, 2.06354519e+01, 2.90363923e+01, 7.66370867e+01,\n",
       "       4.56708439e+01, 3.11141696e+01, 2.74139995e+01, 9.00435577e+00,\n",
       "       1.38740401e+01, 1.43724622e+01, 2.22894657e+01, 9.48376278e+00,\n",
       "       4.94425275e+01, 4.58799240e+01, 4.50022440e+01, 1.85492485e+01,\n",
       "       3.52176836e+01, 1.89463401e+01, 3.64957918e+00, 1.04838762e+01,\n",
       "       5.27248829e+01, 6.95564734e+00, 1.07798306e+01, 1.01753429e+01,\n",
       "       1.15057592e+02, 1.10348268e+01, 1.60992655e+02, 9.06977534e+00,\n",
       "       2.27338661e+00, 6.54218175e+01, 1.72918109e+00, 9.78109627e+00,\n",
       "       5.78102901e+00, 1.00774112e+01, 4.99957401e+01, 9.70243723e+01,\n",
       "       1.38148659e+02, 2.00540211e+01, 1.63856211e+01, 1.09705008e+02,\n",
       "       2.98454455e+00, 8.74268773e+00, 1.02633610e+02, 5.15244724e+01,\n",
       "       2.40782497e+01, 6.45089242e+00, 3.89163574e+01, 3.04432620e+01,\n",
       "       2.82903347e+01, 9.39641223e+01, 2.04366202e+01, 1.57059760e+01,\n",
       "       8.47008950e+01, 6.45005284e+01, 2.53317047e+01, 1.16700730e+01,\n",
       "       6.30558359e+00, 1.94004023e+01, 2.17574000e+01, 9.30024165e+01,\n",
       "       5.67984253e+01, 7.06494421e+00, 2.90039019e+01, 5.60406890e+01,\n",
       "       2.03068157e+01, 6.94931606e+01, 1.74259585e+01, 3.35911261e+01,\n",
       "       2.35829480e+01, 1.78256729e+01, 5.59135854e+00, 1.14917408e+01,\n",
       "       1.08480864e+01, 2.75997824e+01, 2.86090360e+01, 8.10516551e+00,\n",
       "       9.01316564e+00, 4.89540428e+01, 6.73954826e+01, 2.16864037e+01,\n",
       "       4.65710473e+01, 2.65710239e+01, 1.63362216e+01, 9.92942146e+00,\n",
       "       2.84521242e+01, 2.46519358e+01, 2.52361044e+01, 1.35692377e+01,\n",
       "       1.60305894e+01, 2.83254883e+01, 1.56047712e+02, 6.06547234e+01,\n",
       "       1.11451397e+01, 6.15770150e+00, 1.18619604e+01, 1.97413057e+02,\n",
       "       1.40235284e+01, 4.94383724e+00, 2.79417583e+01, 4.68893553e+01,\n",
       "       6.11616113e+00, 8.89760405e+00, 5.11145239e+01, 3.49319312e+00,\n",
       "       1.04508622e+01, 6.23224390e+00, 9.35566308e+00, 2.20017484e+01,\n",
       "       3.15172491e+02, 8.54153364e+00, 2.86274900e+01, 1.10170848e+01,\n",
       "       4.09353865e+01, 2.57192931e+00, 4.51425157e+01, 1.67623349e+01,\n",
       "       1.34485811e+01, 1.37500571e+01, 1.01086014e+01, 2.49962267e+01,\n",
       "       3.06419879e+02, 2.81798835e+01, 1.20661109e+01, 1.87074321e+00,\n",
       "       2.88024333e+01, 4.28827544e+00, 7.72886406e+00, 9.75276710e+00,\n",
       "       3.57382659e+00, 2.16608105e+01, 1.56505822e+01, 1.08111313e+02,\n",
       "       1.95541589e+01, 2.33906325e+01, 1.02836696e+02, 1.05354018e+02,\n",
       "       4.62937273e+00, 2.19853045e+01, 1.66530895e+01, 4.37304551e+01,\n",
       "       3.49258395e+01, 7.00234209e+01, 8.25636151e+01, 2.24205260e+01,\n",
       "       5.73453051e+01, 1.18559378e+01, 9.32355216e+00, 2.27112541e+01,\n",
       "       1.40590839e+02, 3.64225091e+00, 3.14827358e+02, 1.70142537e+01,\n",
       "       7.38011048e+00, 1.68798118e+02, 1.10606469e+01, 6.71537848e+00,\n",
       "       7.38082064e+00, 1.66162142e+02, 4.90621788e+00, 1.43776950e+01,\n",
       "       4.04097821e+01, 9.61089963e+00, 3.66576322e+01, 5.48197996e+00,\n",
       "       5.00837623e+01, 1.66604360e+01, 3.02574663e+01, 1.71852072e+01,\n",
       "       4.62734256e+01, 2.59033647e+01, 2.10383021e+01, 1.20638810e+01,\n",
       "       4.11316095e+00, 1.99266077e+02, 6.26969489e+01, 1.05589953e+01,\n",
       "       5.81339673e+01, 8.37164574e+01, 8.09494008e+00, 5.58483423e+00,\n",
       "       1.09097245e+01, 8.51437082e+00, 1.61052272e+01, 7.76955240e+00,\n",
       "       5.30336828e+01, 5.23269652e+01, 1.50829035e+02, 1.96237316e+01,\n",
       "       2.57918506e+01, 3.77460003e+00, 1.49072273e+01, 5.92328996e+01,\n",
       "       7.76574934e+01, 5.55794808e+01, 1.33897483e+01, 1.83136159e+02,\n",
       "       4.03839223e+01, 2.82967272e+01, 3.71363227e+01, 8.80041118e+00,\n",
       "       7.28642927e+01, 1.66301094e+01, 3.27573013e+01, 6.18493693e+00,\n",
       "       9.07081318e+00, 3.31716837e+01, 7.38339240e+00, 5.56097933e+01,\n",
       "       2.67499085e+01, 1.06337759e+01, 1.10434075e+02, 1.31589908e+01,\n",
       "       1.76734462e+01, 4.55023977e+00, 2.34828152e+02, 8.58822332e+00,\n",
       "       1.32222700e+02, 1.56965273e+01, 9.55701895e+00, 2.97543237e+01,\n",
       "       1.27353005e+01, 5.30639583e+01, 1.37103007e+01, 1.41831268e+01,\n",
       "       4.50881166e+00, 2.38551657e+01, 1.93775444e+01, 1.18880257e+01,\n",
       "       3.21697696e+01, 3.50450865e+01, 1.04678420e+01, 6.43554420e+00,\n",
       "       1.30947858e+02, 1.16889719e+01, 1.02994531e+01, 1.15176290e+01,\n",
       "       1.73774853e+01, 5.05377911e+00, 1.05866213e+01, 4.21393340e+01,\n",
       "       1.39008896e+01, 1.74885852e+01, 9.06858172e+00, 2.32221671e+02,\n",
       "       1.14324969e+01, 1.12097101e+01, 4.90536329e+01, 1.09024468e+01,\n",
       "       2.72345008e+01, 1.04900784e+01, 1.02822928e+01, 1.24071157e+01,\n",
       "       1.78897507e+01, 3.06642097e+01, 1.79315997e+00, 4.00067265e+01,\n",
       "       5.45522321e+01, 2.82741553e+00, 1.69943645e+01, 2.46818427e+00,\n",
       "       3.06950306e-01, 4.87159264e+01, 5.55780087e+00, 5.50625435e+00,\n",
       "       1.95596866e+01, 1.08700610e+01, 6.64910036e+01, 1.20879927e+01,\n",
       "       3.02275152e+01, 1.07737780e+02, 1.37870391e+02, 1.01202352e+02,\n",
       "       3.43849556e+01, 1.13835011e+00, 5.59481002e+01, 1.00344191e+01,\n",
       "       7.42945803e+00, 2.26758625e+01, 4.75205764e+01, 5.36849153e+00,\n",
       "       3.43436545e+01, 1.15515137e+01, 3.97529728e+00, 7.32102365e+00,\n",
       "       1.97666324e+01, 3.46716492e+01, 2.35399575e+01, 4.24876979e+01,\n",
       "       4.67775780e+01, 6.31503222e+01, 5.49278879e+01, 1.83543775e+01,\n",
       "       1.26019448e+02, 1.09181960e+01, 4.27265518e+01, 1.94505749e+01,\n",
       "       3.00541530e+01, 2.15399034e+01, 1.75591439e+01, 4.33413629e+01,\n",
       "       2.82849309e+01, 4.52588149e+01, 2.95077776e+01, 7.59785270e+00,\n",
       "       1.00894361e+01, 2.87014345e+01, 3.45383942e+00, 3.75571961e+01,\n",
       "       1.27968293e+02, 3.60756666e+01, 1.10402775e+02, 2.62688111e+01,\n",
       "       3.34461925e+01, 3.08407245e+01, 5.38964813e+00, 2.27876136e+01,\n",
       "       2.27662457e+01, 1.89902664e+01, 2.64535047e+01, 2.71995722e+01,\n",
       "       5.21831988e+00, 2.14630971e+00, 1.38354093e+01, 3.62148043e+00,\n",
       "       1.38357031e+01, 3.72033380e+01, 4.44742519e+01, 1.47718725e+01,\n",
       "       3.34172453e+00, 1.50982231e+01, 1.59086893e+01, 2.32397127e+01,\n",
       "       2.33230505e+01, 1.94223498e+01, 3.57350543e+01, 8.48106147e+00,\n",
       "       6.38343564e+01, 2.05969620e+01, 1.84991780e+01, 4.94311220e+01,\n",
       "       4.26729248e+01, 1.94902402e+01, 1.86384971e+01, 1.45808873e+01,\n",
       "       2.44093990e+01, 1.74792505e+01, 2.98207059e+01, 3.36725351e+01,\n",
       "       1.33431300e+01, 2.36223611e+01, 3.61833485e+01, 7.18877734e+00,\n",
       "       9.98485162e+00, 1.06512960e+02, 2.71033364e+00, 2.55456303e+01,\n",
       "       1.68771358e+02, 4.75690152e+01, 7.88231886e+00, 7.09094012e+00,\n",
       "       1.44752163e+01, 1.64508706e+01, 2.40719939e+01, 5.40195200e+01,\n",
       "       1.32492468e+01, 3.25643693e+00, 2.14991252e+01, 1.46080572e+01,\n",
       "       3.49713522e+01, 7.26481220e+01, 1.99760828e+01, 2.38277132e+01,\n",
       "       5.81317934e+01, 8.79313639e+01, 9.33902911e+00, 3.62750084e+01,\n",
       "       9.46289832e+00, 1.93873723e+01, 2.72365388e+01, 7.35642286e+00,\n",
       "       3.45080304e+01, 1.41099380e+01, 3.31861226e+01, 6.18786727e+01,\n",
       "       5.64711013e+01, 9.75074607e+00, 1.24464367e+01, 5.03359549e+00,\n",
       "       4.90473319e+00, 2.97975978e+01, 1.90171541e+02, 5.25572583e+00,\n",
       "       1.11035544e+01, 4.34900260e+01, 8.02266600e+00, 3.49914358e+01,\n",
       "       1.04329913e+02, 1.25960070e+01, 4.48841988e+01, 7.44842953e+01,\n",
       "       6.56749196e+00, 4.64707091e+00, 5.41222761e+00, 3.16720549e+01,\n",
       "       6.62654649e+00, 1.21499306e+01, 3.69419384e+01, 1.77922131e+01,\n",
       "       3.12807389e+01, 3.09157140e+01, 2.50160453e+02, 1.17145300e+01,\n",
       "       1.36378507e+01, 3.79361066e+01, 7.11919752e+00, 1.48844763e+01,\n",
       "       1.08708904e+01, 2.52012402e+01, 1.69426734e+01, 3.22459395e+01,\n",
       "       1.29056792e+01, 1.28648912e+01, 4.05870938e+01, 1.37179741e+01,\n",
       "       2.78214191e+01, 9.30267740e+00, 5.52265975e+01, 1.18488556e+01,\n",
       "       7.39541522e+00, 3.74756478e+01, 2.27593315e+01, 2.96831843e+00,\n",
       "       3.55264143e+01, 8.06680875e+00, 2.90165561e+01, 1.04956951e+02,\n",
       "       5.82746901e+01, 2.24613920e+01, 4.82107349e+01, 3.35764551e+01,\n",
       "       1.35725759e+01, 2.17101747e+01, 4.58091093e+01, 7.84881202e+00,\n",
       "       2.36954494e+01, 6.08582544e-01, 3.01563091e+01, 6.69812051e+00,\n",
       "       1.23058658e+01, 2.03640135e+02, 1.33308968e+01, 1.38122501e+02,\n",
       "       1.62525097e+01, 7.84643904e+01, 5.78665298e+01, 1.68824012e+01,\n",
       "       1.84463378e+01, 2.38679131e+01, 1.92254022e+01, 9.40137754e+00,\n",
       "       1.04899337e+01, 9.93648947e+00, 6.24417203e+01, 1.73610277e+01,\n",
       "       7.33426643e+01, 3.12759111e+01, 1.66240136e+01, 3.15733938e+01,\n",
       "       1.57132100e+01, 3.11712445e+01, 6.21060030e+01, 1.01339575e+01,\n",
       "       2.21815600e+01, 5.56269218e+01, 7.65494176e+00, 9.98476140e+00,\n",
       "       6.64652813e+00, 4.72530926e+00, 2.25597068e+01, 2.30670683e+01,\n",
       "       1.60970849e+01, 6.16164294e+00, 1.83934621e+01, 1.45601749e+01,\n",
       "       7.06740384e+00, 1.10211758e+01, 1.65719837e+02, 1.95850311e+01,\n",
       "       2.88954788e+01, 1.51409823e+01, 2.87516912e+00, 2.38732361e+01,\n",
       "       9.37309396e+00, 5.67169959e+01, 1.05193002e+02, 2.41736293e+00,\n",
       "       8.65275344e+01, 2.02719735e+01, 6.78556016e+00, 1.36179356e+02,\n",
       "       1.14003697e+01, 1.66376177e+01, 1.18129875e+01, 1.46945006e+01,\n",
       "       2.85658631e+01, 1.44996458e+01, 2.54486933e+01, 6.60532948e+00,\n",
       "       5.37016866e+01, 2.95984541e+01, 2.89123878e+01, 5.49840363e+01,\n",
       "       7.33243289e+01, 3.39370900e+01, 4.98132862e+01, 1.56881578e+02,\n",
       "       6.73793759e+00, 1.08575913e+01, 1.21947649e+01, 2.31711275e+01,\n",
       "       2.09829457e+02, 1.34376059e+02, 1.17013282e+01, 1.50341473e+01,\n",
       "       1.88076340e+01, 6.84399012e+01, 1.41586137e+01, 1.93284867e+01,\n",
       "       2.09478865e+02, 3.94310948e+01, 1.80110579e+01, 3.92431375e+00,\n",
       "       1.45139597e+01, 1.17128625e+02, 9.97357208e+00, 1.43160407e+02,\n",
       "       1.39390920e+01, 9.85818478e+00, 5.68897055e+01, 5.43773591e+00,\n",
       "       6.05081511e+00, 3.28040067e+01, 4.14975746e+01, 1.40661620e+01,\n",
       "       1.23190269e+02, 2.73317902e+01, 7.35897868e+00, 1.55314834e+01,\n",
       "       1.18315773e+01, 2.84209046e+01, 4.71890636e+01, 1.81498707e+00,\n",
       "       8.52408132e+00, 2.35088688e+01, 9.29360079e+00, 7.95116387e+00,\n",
       "       3.69847459e+00, 9.13551635e+01, 5.65783652e+01, 4.49735572e+01,\n",
       "       5.26799151e+01, 1.01154230e+01, 2.20386421e+01, 2.62456079e+00,\n",
       "       1.81770007e+02, 1.35059790e+00, 1.83381550e+01, 1.45187858e+01,\n",
       "       2.16773530e+01, 1.08701847e+01, 7.86752806e+01, 8.78911756e+00,\n",
       "       3.65142242e+01, 2.18794936e+01, 9.71644298e+00, 7.83184030e+00,\n",
       "       9.44575465e+01, 1.69825895e+01, 1.33592402e+01, 1.97698897e+01,\n",
       "       1.51604502e+01, 9.14023577e+00, 1.87338192e+01, 2.82659036e+01,\n",
       "       8.02309334e+00, 1.70862225e+01, 3.54138839e+01, 3.00073634e+01,\n",
       "       1.23599597e+01, 2.36835665e+01, 1.84333663e+00, 5.69044501e+01,\n",
       "       1.56734067e+01, 5.88818954e+01, 8.52067059e+01, 4.81876832e+01,\n",
       "       1.64486831e+01, 2.27186833e+02, 4.59602081e+00, 6.83949481e+00,\n",
       "       9.37731953e+00, 1.47502619e+01, 3.93466943e+01, 3.02076041e+00,\n",
       "       9.19632947e+00, 5.68472801e+00, 2.13704404e+01, 1.44007437e+01,\n",
       "       3.01700446e+01, 2.79601034e+01, 1.57665151e+01, 5.83329278e+01,\n",
       "       3.09350139e+01, 2.44032105e+00, 4.72852696e+01, 2.27188218e+01,\n",
       "       1.94080998e+01, 7.03103229e+01, 1.46184891e+01, 2.21198283e+01,\n",
       "       7.50288115e+00, 1.86841820e+01, 9.39943799e+00, 9.87616662e+00,\n",
       "       1.00720544e+01, 3.67674838e+01, 4.09439644e+01, 8.88244026e+00,\n",
       "       2.62063393e+01, 6.96669938e+00, 1.01259261e+01, 1.84976644e+01,\n",
       "       5.53374779e+01, 5.50547872e+00, 1.34559297e+02, 4.51053341e+01,\n",
       "       5.24782495e+01, 6.38007358e+00, 2.30723978e+01, 3.30672303e+01,\n",
       "       8.67700697e+01, 1.73943359e+01, 6.76388383e+01, 1.06562663e+01,\n",
       "       9.05570138e+01, 5.74957833e+01, 6.22971896e+00, 2.17191935e+01,\n",
       "       1.10427029e+01, 7.58713673e+00, 6.49428061e+01, 6.75359170e+00,\n",
       "       1.60293710e+01, 2.34324878e+01, 1.13736751e+01, 5.76331258e+00,\n",
       "       7.36908876e+01, 5.64098915e+01, 8.87244034e+01, 1.61687312e+01,\n",
       "       4.73876409e+00, 9.30788694e+01, 2.10137353e+01, 3.05466175e+01,\n",
       "       2.96774544e+01, 2.21644183e+01, 2.41626569e+01, 1.14479486e+01,\n",
       "       4.11734587e+01, 1.71707547e+01, 7.84700122e+01, 3.91090891e+00,\n",
       "       6.36888321e+01, 4.02950394e+00, 2.73809568e+01, 5.39463570e+00,\n",
       "       4.46915682e+01, 7.64023073e+00, 1.96056556e+01, 2.04483220e+02,\n",
       "       1.46378777e+01, 1.08721337e+01, 1.06050085e+01, 5.17076399e+01,\n",
       "       2.63224083e+01, 2.25934080e+01, 6.64013659e+00, 2.09296417e+01,\n",
       "       2.32371524e+01, 1.49605038e+01, 5.14020262e+01, 3.89967773e+01,\n",
       "       4.00385636e+00, 1.03709210e+01, 8.94232765e+01, 1.35771446e+01,\n",
       "       2.52779762e+00, 4.16021886e+01, 8.34085495e+01, 5.49663386e+01,\n",
       "       5.56957723e+00, 3.81326524e+01, 9.95884743e+00, 8.57077751e+00,\n",
       "       1.35897577e+01, 2.26676638e+01, 1.51222127e+01, 2.28940527e+01,\n",
       "       1.02413647e+01, 4.52598284e+01, 4.10984097e+01, 6.02198577e+00,\n",
       "       2.75062911e+01, 1.47898088e+01, 3.33137293e+01, 3.20730491e+01,\n",
       "       9.01916884e+01, 2.08979481e+01, 1.81082472e+01, 6.45245793e+00,\n",
       "       2.06551918e+01, 6.05817995e+00, 3.01275070e+01, 1.34589772e+01,\n",
       "       4.57613584e+01, 1.79273317e+01, 2.10671344e+01, 8.49687992e+01,\n",
       "       4.95524799e+00, 3.96039901e+01, 3.75562404e+01, 1.24780793e+01,\n",
       "       2.02020027e+01, 1.36652327e+02, 2.79022963e+01, 4.89756001e+00,\n",
       "       4.07940349e+01, 3.62487705e+01, 1.08968399e+01, 1.02031541e+01,\n",
       "       1.08282039e+01, 3.76571916e+00, 4.50322104e+00, 1.02005960e+01,\n",
       "       1.94350434e+01, 2.40374884e+01, 2.17674259e+01, 1.34298093e+01,\n",
       "       3.81904354e+00, 6.34708017e+01, 1.86895476e+01, 3.02093020e+01,\n",
       "       2.90848037e+01, 2.05871446e+01, 4.82871186e+01, 7.22379706e+01,\n",
       "       2.48498915e+01, 5.20099666e+01, 1.43709237e+02, 2.54204342e+01,\n",
       "       8.92429161e+00, 9.67155309e+00, 5.87143178e+01, 2.67938758e+00,\n",
       "       2.34561077e+01, 3.92153028e+01, 8.85841605e+01, 1.04322476e+01])"
      ]
     },
     "execution_count": 70,
     "metadata": {},
     "output_type": "execute_result"
    }
   ],
   "source": [
    "data4"
   ]
  },
  {
   "cell_type": "code",
   "execution_count": 71,
   "id": "4d04ff14-3970-4819-9ede-f05b468288a7",
   "metadata": {},
   "outputs": [
    {
     "name": "stderr",
     "output_type": "stream",
     "text": [
      "C:\\ProgramData\\anaconda3\\Lib\\site-packages\\seaborn\\_oldcore.py:1119: FutureWarning: use_inf_as_na option is deprecated and will be removed in a future version. Convert inf values to NaN before operating instead.\n",
      "  with pd.option_context('mode.use_inf_as_na', True):\n"
     ]
    },
    {
     "data": {
      "text/plain": [
       "<Axes: ylabel='Count'>"
      ]
     },
     "execution_count": 71,
     "metadata": {},
     "output_type": "execute_result"
    },
    {
     "data": {
      "image/png": "[encoded data removed]",
      "text/plain": [
       "<Figure size 640x480 with 1 Axes>"
      ]
     },
     "metadata": {},
     "output_type": "display_data"
    }
   ],
   "source": [
    "sns.histplot(data4,kde=True)"
   ]
  },
  {
   "cell_type": "code",
   "execution_count": 72,
   "id": "95924354-36b5-46fa-9ffe-7df1734ff3fb",
   "metadata": {},
   "outputs": [
    {
     "name": "stderr",
     "output_type": "stream",
     "text": [
      "C:\\ProgramData\\anaconda3\\Lib\\site-packages\\seaborn\\_oldcore.py:1119: FutureWarning: use_inf_as_na option is deprecated and will be removed in a future version. Convert inf values to NaN before operating instead.\n",
      "  with pd.option_context('mode.use_inf_as_na', True):\n"
     ]
    },
    {
     "data": {
      "text/plain": [
       "<Axes: ylabel='Count'>"
      ]
     },
     "execution_count": 72,
     "metadata": {},
     "output_type": "execute_result"
    },
    {
     "data": {
      "image/png": "[encoded data removed]",
      "text/plain": [
       "<Figure size 640x480 with 1 Axes>"
      ]
     },
     "metadata": {},
     "output_type": "display_data"
    }
   ],
   "source": [
    "sns.histplot(np.log(data4),kde=True)"
   ]
  },
  {
   "cell_type": "code",
   "execution_count": 76,
   "id": "8f3fc174-429a-4aed-a7db-f436770bae31",
   "metadata": {},
   "outputs": [],
   "source": [
    "import matplotlib.pyplot as plt\n",
    "import seaborn as sns\n",
    "import scipy.stats as stat\n",
    "import pylab"
   ]
  },
  {
   "cell_type": "code",
   "execution_count": 78,
   "id": "056775d2-c09c-411a-8624-c8314568220b",
   "metadata": {},
   "outputs": [],
   "source": [
    "def cal_area(sample):\n",
    "    plt.figure(figsize=(10,6))\n",
    "    plt.subplot(1,2,1)\n",
    "    sns.histplot(sample,kde=True)\n",
    "    plt.subplot(1,2,2)\n",
    "    stat.probplot(sample,dist=\"norm\",plot=pylab)\n",
    "    plt.show()\n",
    "    "
   ]
  },
  {
   "cell_type": "code",
   "execution_count": 79,
   "id": "6a9e0e2e-ffd3-408a-967c-acd58b5835a5",
   "metadata": {},
   "outputs": [
    {
     "name": "stderr",
     "output_type": "stream",
     "text": [
      "C:\\ProgramData\\anaconda3\\Lib\\site-packages\\seaborn\\_oldcore.py:1119: FutureWarning: use_inf_as_na option is deprecated and will be removed in a future version. Convert inf values to NaN before operating instead.\n",
      "  with pd.option_context('mode.use_inf_as_na', True):\n"
     ]
    },
    {
     "data": {
      "image/png": "[encoded data removed]",
      "text/plain": [
       "<Figure size 1000x600 with 2 Axes>"
      ]
     },
     "metadata": {},
     "output_type": "display_data"
    }
   ],
   "source": [
    "cal_area(data4)"
   ]
  },
  {
   "cell_type": "code",
   "execution_count": 80,
   "id": "4f59e6d5-f441-4ec5-b52a-d0ed9bec4523",
   "metadata": {},
   "outputs": [
    {
     "name": "stderr",
     "output_type": "stream",
     "text": [
      "C:\\ProgramData\\anaconda3\\Lib\\site-packages\\seaborn\\_oldcore.py:1119: FutureWarning: use_inf_as_na option is deprecated and will be removed in a future version. Convert inf values to NaN before operating instead.\n",
      "  with pd.option_context('mode.use_inf_as_na', True):\n"
     ]
    },
    {
     "data": {
      "image/png": "[encoded data removed]",
      "text/plain": [
       "<Figure size 1000x600 with 2 Axes>"
      ]
     },
     "metadata": {},
     "output_type": "display_data"
    }
   ],
   "source": [
    "cal_area(np.log(data4))"
   ]
  },
  {
   "cell_type": "code",
   "execution_count": 84,
   "id": "3fed577f-2830-4a63-b97f-dcb0899340b7",
   "metadata": {},
   "outputs": [
    {
     "name": "stderr",
     "output_type": "stream",
     "text": [
      "C:\\Users\\AYAN\\AppData\\Local\\Temp\\ipykernel_15224\\2027639303.py:2: UserWarning: \n",
      "\n",
      "`distplot` is a deprecated function and will be removed in seaborn v0.14.0.\n",
      "\n",
      "Please adapt your code to use either `displot` (a figure-level function with\n",
      "similar flexibility) or `kdeplot` (an axes-level function for kernel density plots).\n",
      "\n",
      "For a guide to updating your code to use the new functions, please see\n",
      "https://gist.github.com/mwaskom/de44147ed2974457ad6372750bbe5751\n",
      "\n",
      "  sns.distplot(random.uniform(size=100),hist=False)\n",
      "C:\\ProgramData\\anaconda3\\Lib\\site-packages\\seaborn\\_oldcore.py:1119: FutureWarning: use_inf_as_na option is deprecated and will be removed in a future version. Convert inf values to NaN before operating instead.\n",
      "  with pd.option_context('mode.use_inf_as_na', True):\n"
     ]
    },
    {
     "data": {
      "text/plain": [
       "<Axes: ylabel='Density'>"
      ]
     },
     "execution_count": 84,
     "metadata": {},
     "output_type": "execute_result"
    },
    {
     "data": {
      "image/png": "[encoded data removed]",
      "text/plain": [
       "<Figure size 640x480 with 1 Axes>"
      ]
     },
     "metadata": {},
     "output_type": "display_data"
    }
   ],
   "source": [
    "from numpy import random\n",
    "sns.distplot(random.uniform(size=100),hist=False)"
   ]
  },
  {
   "cell_type": "code",
   "execution_count": 89,
   "id": "56087f84-c366-432c-83b4-4fdb5d4d20e9",
   "metadata": {},
   "outputs": [
    {
     "data": {
      "text/plain": [
       "array([0.19761584, 0.347632  , 0.78443997, 0.64904693, 0.09061845,\n",
       "       0.10884483, 0.9401569 , 0.86167672, 0.67659376, 0.19265761,\n",
       "       0.00789885, 0.31541542, 0.68992679, 0.41519817, 0.18611208,\n",
       "       0.64820973, 0.01134803, 0.29528005, 0.48574884, 0.93735177,\n",
       "       0.41132014, 0.45483382, 0.78159089, 0.19564818, 0.35676336,\n",
       "       0.08932979, 0.52373882, 0.87626408, 0.33989555, 0.53425448,\n",
       "       0.25548113, 0.0218507 , 0.91839339, 0.66565322, 0.17337075,\n",
       "       0.53426504, 0.30913754, 0.343412  , 0.8451259 , 0.99519978,\n",
       "       0.03583529, 0.80123425, 0.27495128, 0.67298448, 0.16316613,\n",
       "       0.15579671, 0.0470668 , 0.80135972, 0.51521072, 0.86232047,\n",
       "       0.57494316, 0.4589366 , 0.091585  , 0.99952914, 0.23476456,\n",
       "       0.54163213, 0.69805834, 0.18590215, 0.07447397, 0.04209501,\n",
       "       0.30999264, 0.60836196, 0.93385894, 0.9759137 , 0.86253806,\n",
       "       0.45367982, 0.83940789, 0.0703564 , 0.22013522, 0.66685848,\n",
       "       0.90757847, 0.25068209, 0.29349743, 0.10710902, 0.17678056,\n",
       "       0.99969543, 0.54601688, 0.34727627, 0.79620759, 0.10305316,\n",
       "       0.90869008, 0.79432726, 0.60228334, 0.78635849, 0.92194552,\n",
       "       0.54148799, 0.42665625, 0.46908054, 0.21327821, 0.95099842,\n",
       "       0.92096541, 0.27910275, 0.15245734, 0.63838813, 0.34565331,\n",
       "       0.82154583, 0.74670371, 0.663146  , 0.38754944, 0.91312209])"
      ]
     },
     "execution_count": 89,
     "metadata": {},
     "output_type": "execute_result"
    }
   ],
   "source": [
    "np.random.random(100)"
   ]
  },
  {
   "cell_type": "code",
   "execution_count": 93,
   "id": "c833c9a5-da03-4e0a-a73d-cb5eddc73529",
   "metadata": {},
   "outputs": [
    {
     "data": {
      "text/plain": [
       "array([ 9, 43, 27, 63, 92,  8, 32, 75, 89, 18])"
      ]
     },
     "execution_count": 93,
     "metadata": {},
     "output_type": "execute_result"
    }
   ],
   "source": [
    "np.random.randint(1,101,10)"
   ]
  },
  {
   "cell_type": "code",
   "execution_count": 94,
   "id": "421c1238-c5ee-4327-9828-a6fcd75e1c0f",
   "metadata": {},
   "outputs": [
    {
     "name": "stdout",
     "output_type": "stream",
     "text": [
      "[  1.  12.  23.  34.  45.  56.  67.  78.  89. 100.]\n"
     ]
    }
   ],
   "source": [
    "import numpy as np\n",
    "\n",
    "numbers = np.linspace(1, 100, 10)\n",
    "print(numbers)\n"
   ]
  },
  {
   "cell_type": "code",
   "execution_count": 97,
   "id": "a16f6f8f-ef38-47e6-bf0f-d62aaad400a6",
   "metadata": {},
   "outputs": [
    {
     "name": "stderr",
     "output_type": "stream",
     "text": [
      "C:\\ProgramData\\anaconda3\\Lib\\site-packages\\seaborn\\_oldcore.py:1119: FutureWarning: use_inf_as_na option is deprecated and will be removed in a future version. Convert inf values to NaN before operating instead.\n",
      "  with pd.option_context('mode.use_inf_as_na', True):\n"
     ]
    },
    {
     "data": {
      "text/plain": [
       "<Axes: ylabel='Count'>"
      ]
     },
     "execution_count": 97,
     "metadata": {},
     "output_type": "execute_result"
    },
    {
     "data": {
      "image/png": "[encoded data removed]",
      "text/plain": [
       "<Figure size 640x480 with 1 Axes>"
      ]
     },
     "metadata": {},
     "output_type": "display_data"
    }
   ],
   "source": [
    "sns.histplot(np.random.randint(1,8,size=100))"
   ]
  },
  {
   "cell_type": "markdown",
   "id": "60534f86-55d7-4530-aa75-b36c7d05db8a",
   "metadata": {},
   "source": [
    "#Bernoli distribution"
   ]
  },
  {
   "cell_type": "code",
   "execution_count": 103,
   "id": "2f74d92e-9e72-40f8-9bc3-0d5f6dfccb61",
   "metadata": {},
   "outputs": [
    {
     "name": "stderr",
     "output_type": "stream",
     "text": [
      "C:\\ProgramData\\anaconda3\\Lib\\site-packages\\seaborn\\_oldcore.py:1119: FutureWarning: use_inf_as_na option is deprecated and will be removed in a future version. Convert inf values to NaN before operating instead.\n",
      "  with pd.option_context('mode.use_inf_as_na', True):\n"
     ]
    },
    {
     "data": {
      "text/plain": [
       "<Axes: ylabel='Count'>"
      ]
     },
     "execution_count": 103,
     "metadata": {},
     "output_type": "execute_result"
    },
    {
     "data": {
      "image/png": "[encoded data removed]",
      "text/plain": [
       "<Figure size 640x480 with 1 Axes>"
      ]
     },
     "metadata": {},
     "output_type": "display_data"
    }
   ],
   "source": [
    "p=0.3\n",
    "sample_size=1000\n",
    "Bernoli_dist=np.random.choice([0,1],size=sample_size,p=[1-p,p])\n",
    "sns.histplot(Bernoli_dist,bins=2,kde=False,color=\"Yellow\")"
   ]
  },
  {
   "cell_type": "markdown",
   "id": "830638a6-9e08-47bf-a4b6-8f80c7b820d4",
   "metadata": {},
   "source": [
    "Binomial Distribution"
   ]
  },
  {
   "cell_type": "code",
   "execution_count": 3,
   "id": "cde30808-b5d4-4a63-a6a2-5cfc7b359f58",
   "metadata": {},
   "outputs": [],
   "source": [
    "import numpy as np\n",
    "import seaborn as sns\n",
    "p=0.6\n",
    "no_of_trials=10\n",
    "data5=np.random.binomial(no_of_trials,p,10000)"
   ]
  },
  {
   "cell_type": "code",
   "execution_count": 2,
   "id": "a7d608a1-9b50-44bc-8183-e921d38fa86f",
   "metadata": {},
   "outputs": [
    {
     "name": "stderr",
     "output_type": "stream",
     "text": [
      "C:\\Users\\AYAN\\AppData\\Local\\Temp\\ipykernel_12140\\649053270.py:1: UserWarning: \n",
      "\n",
      "`distplot` is a deprecated function and will be removed in seaborn v0.14.0.\n",
      "\n",
      "Please adapt your code to use either `displot` (a figure-level function with\n",
      "similar flexibility) or `histplot` (an axes-level function for histograms).\n",
      "\n",
      "For a guide to updating your code to use the new functions, please see\n",
      "https://gist.github.com/mwaskom/de44147ed2974457ad6372750bbe5751\n",
      "\n",
      "  sns.distplot(data5)\n",
      "C:\\ProgramData\\anaconda3\\Lib\\site-packages\\seaborn\\_oldcore.py:1119: FutureWarning: use_inf_as_na option is deprecated and will be removed in a future version. Convert inf values to NaN before operating instead.\n",
      "  with pd.option_context('mode.use_inf_as_na', True):\n"
     ]
    },
    {
     "data": {
      "text/plain": [
       "<Axes: ylabel='Density'>"
      ]
     },
     "execution_count": 2,
     "metadata": {},
     "output_type": "execute_result"
    },
    {
     "data": {
      "image/png": "[encoded data removed]",
      "text/plain": [
       "<Figure size 640x480 with 1 Axes>"
      ]
     },
     "metadata": {},
     "output_type": "display_data"
    }
   ],
   "source": [
    "sns.distplot(data5)"
   ]
  },
  {
   "cell_type": "markdown",
   "id": "6e3846c8-d01a-4c70-be82-9f8cef086edf",
   "metadata": {},
   "source": [
    "#poisson Distribution"
   ]
  },
  {
   "cell_type": "code",
   "execution_count": 6,
   "id": "1c95bb80-45b9-4985-a73d-9b7dc0d62ca4",
   "metadata": {},
   "outputs": [
    {
     "name": "stderr",
     "output_type": "stream",
     "text": [
      "C:\\Users\\AYAN\\AppData\\Local\\Temp\\ipykernel_12140\\1306736149.py:2: UserWarning: \n",
      "\n",
      "`distplot` is a deprecated function and will be removed in seaborn v0.14.0.\n",
      "\n",
      "Please adapt your code to use either `displot` (a figure-level function with\n",
      "similar flexibility) or `histplot` (an axes-level function for histograms).\n",
      "\n",
      "For a guide to updating your code to use the new functions, please see\n",
      "https://gist.github.com/mwaskom/de44147ed2974457ad6372750bbe5751\n",
      "\n",
      "  ax=sns.distplot(poisson_data,kde=False,color=\"red\")\n"
     ]
    },
    {
     "data": {
      "text/plain": [
       "[Text(0.5, 0, 'poisson Distribution'), Text(0, 0.5, 'Frequency')]"
      ]
     },
     "execution_count": 6,
     "metadata": {},
     "output_type": "execute_result"
    },
    {
     "data": {
      "image/png": "[encoded data removed]",
      "text/plain": [
       "<Figure size 640x480 with 1 Axes>"
      ]
     },
     "metadata": {},
     "output_type": "display_data"
    }
   ],
   "source": [
    "poisson_data=np.random.poisson(5,1000)\n",
    "ax=sns.distplot(poisson_data,kde=False,color=\"red\")\n",
    "ax.set(xlabel=\"poisson Distribution\",ylabel=\"Frequency\")"
   ]
  },
  {
   "cell_type": "code",
   "execution_count": null,
   "id": "04df4054-2be2-433b-b312-c51434871560",
   "metadata": {},
   "outputs": [],
   "source": []
  }
 ],
 "metadata": {
  "kernelspec": {
   "display_name": "Python 3 (ipykernel)",
   "language": "python",
   "name": "python3"
  },
  "language_info": {
   "codemirror_mode": {
    "name": "ipython",
    "version": 3
   },
   "file_extension": ".py",
   "mimetype": "text/x-python",
   "name": "python",
   "nbconvert_exporter": "python",
   "pygments_lexer": "ipython3",
   "version": "3.11.7"
  }
 },
 "nbformat": 4,
 "nbformat_minor": 5
}
