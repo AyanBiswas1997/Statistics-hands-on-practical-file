{
 "cells": [
  {
   "cell_type": "markdown",
   "id": "0a4bb2b8-d671-4434-ad17-53c5453fea64",
   "metadata": {},
   "source": [
    "Z-Test\n",
    "T-Test\n",
    "Chi square tet"
   ]
  },
  {
   "cell_type": "code",
   "execution_count": 3,
   "id": "d361df0d-9d5f-4684-a9cb-1ba250a69cda",
   "metadata": {},
   "outputs": [],
   "source": [
    "import numpy as np\n",
    "import scipy.stats as stat"
   ]
  },
  {
   "cell_type": "code",
   "execution_count": 4,
   "id": "e352638d-6316-400e-88f6-c5209d85b5c1",
   "metadata": {},
   "outputs": [],
   "source": [
    "sample_mean=110\n",
    "population_mean=100\n",
    "population_std=15\n",
    "sample_size=50\n",
    "alpha=0.05"
   ]
  },
  {
   "cell_type": "code",
   "execution_count": 5,
   "id": "5514f5d9-0abb-4b3e-9cdf-240bba5c5191",
   "metadata": {},
   "outputs": [],
   "source": [
    "confidence_interval=1-0.05"
   ]
  },
  {
   "cell_type": "code",
   "execution_count": 6,
   "id": "e3b60d53-600f-4a9a-8bc2-970c28f81526",
   "metadata": {},
   "outputs": [
    {
     "data": {
      "text/plain": [
       "0.95"
      ]
     },
     "execution_count": 6,
     "metadata": {},
     "output_type": "execute_result"
    }
   ],
   "source": [
    "confidence_interval"
   ]
  },
  {
   "cell_type": "code",
   "execution_count": 7,
   "id": "991f95f4-8bbd-4862-aa7f-3a5fd6e051da",
   "metadata": {},
   "outputs": [],
   "source": [
    "z_score=(sample_mean-population_mean)/(population_std/np.sqrt(50))"
   ]
  },
  {
   "cell_type": "code",
   "execution_count": 8,
   "id": "06ba1a8c-ce5f-4f3a-b217-f94cf4768a9a",
   "metadata": {},
   "outputs": [
    {
     "data": {
      "text/plain": [
       "4.714045207910317"
      ]
     },
     "execution_count": 8,
     "metadata": {},
     "output_type": "execute_result"
    }
   ],
   "source": [
    "z_score"
   ]
  },
  {
   "cell_type": "code",
   "execution_count": 9,
   "id": "e7897c8f-8ffb-48f0-bec9-5afaa8c7a5ee",
   "metadata": {},
   "outputs": [],
   "source": [
    "z_critical=stat.norm.ppf(confidence_interval)"
   ]
  },
  {
   "cell_type": "code",
   "execution_count": 10,
   "id": "0b9ec771-2987-4257-abfa-43f940f70e29",
   "metadata": {},
   "outputs": [
    {
     "data": {
      "text/plain": [
       "1.6448536269514722"
      ]
     },
     "execution_count": 10,
     "metadata": {},
     "output_type": "execute_result"
    }
   ],
   "source": [
    "z_critical"
   ]
  },
  {
   "cell_type": "code",
   "execution_count": 11,
   "id": "5ef237b2-38d5-4b88-8814-e5e274c4d63f",
   "metadata": {},
   "outputs": [],
   "source": [
    "p_value=1-0.9999966"
   ]
  },
  {
   "cell_type": "code",
   "execution_count": 12,
   "id": "2035996f-624f-47dd-87d9-1666b1f161ab",
   "metadata": {},
   "outputs": [
    {
     "name": "stdout",
     "output_type": "stream",
     "text": [
      "reject the null hypothisis\n"
     ]
    }
   ],
   "source": [
    "if p_value<alpha:\n",
    "    print(\"reject the null hypothisis\")\n",
    "else:\n",
    "    print(\"fail to reject null hypothisis\")\n"
   ]
  },
  {
   "cell_type": "code",
   "execution_count": 13,
   "id": "91cf6a12-4b2b-4999-a5e6-598a9af04507",
   "metadata": {},
   "outputs": [
    {
     "name": "stdout",
     "output_type": "stream",
     "text": [
      "reject the null hypothisis\n"
     ]
    }
   ],
   "source": [
    "if z_score>z_critical:\n",
    "    print(\"reject the null hypothisis\")\n",
    "else:\n",
    "    print(\"fail to reject the null hypothisis\")"
   ]
  },
  {
   "cell_type": "markdown",
   "id": "7bdc340c-db30-40f2-9c78-49045d1ec0e9",
   "metadata": {},
   "source": [
    "#Z_test"
   ]
  },
  {
   "cell_type": "code",
   "execution_count": 22,
   "id": "bdb6208e-7b48-402d-856e-073a864e1a1c",
   "metadata": {},
   "outputs": [],
   "source": [
    "from numpy.random import randn\n",
    "my_data=randn(500)\n"
   ]
  },
  {
   "cell_type": "code",
   "execution_count": 23,
   "id": "4dd37346-a68d-451b-877d-4d911bf6b438",
   "metadata": {},
   "outputs": [
    {
     "data": {
      "text/plain": [
       "array([-6.84294169e-01, -1.79608181e-03, -1.03472896e-02, -3.02856861e-01,\n",
       "        3.69209145e-01, -1.30326505e-01, -5.83942929e-01,  5.33638567e-02,\n",
       "        2.09430614e+00, -1.04290766e+00, -1.01583555e+00, -5.71122197e-01,\n",
       "       -5.54235674e-02,  1.46336003e+00, -1.17040902e-01, -2.70674733e-01,\n",
       "       -5.92303969e-01,  1.09899054e+00,  3.51076077e-01, -6.73098468e-02,\n",
       "        5.00376967e-01,  8.36345439e-01, -7.76048688e-01,  3.11763691e-01,\n",
       "        1.35902139e+00, -1.64450824e-01, -4.69731640e-01, -9.84646941e-01,\n",
       "        4.59756035e-01, -6.11465961e-01, -8.77857673e-01,  1.00714049e+00,\n",
       "       -1.51615200e+00,  2.56177609e-01, -8.63941513e-01,  2.11591245e+00,\n",
       "       -3.57670492e-01,  1.43995709e+00, -2.18344774e+00, -1.07353545e+00,\n",
       "       -1.08666175e+00, -6.19827790e-02, -3.28987768e-01, -1.10836411e+00,\n",
       "        1.13377262e-01,  1.88231015e+00,  1.30365608e-01,  4.71395304e-01,\n",
       "       -2.04032608e+00,  1.69536472e+00, -1.96776199e+00,  1.54610367e+00,\n",
       "       -6.04879429e-01, -3.63180251e-01,  1.70641761e-01, -2.12537241e+00,\n",
       "       -3.15090117e-01, -8.14195579e-01,  2.57319539e-01, -1.32915072e+00,\n",
       "        1.94423066e-01,  1.63463394e+00, -2.26185067e-01, -5.78575672e-01,\n",
       "       -8.82601635e-01, -8.91490345e-01, -2.11141422e+00,  2.17040505e-01,\n",
       "        1.24379852e+00, -9.63883246e-01,  1.48395090e-01,  8.52828014e-02,\n",
       "       -1.26381659e+00, -6.91339042e-01,  6.00367122e-01, -1.43745255e+00,\n",
       "       -1.78546040e-01, -2.93640781e-01,  1.54303256e-01,  1.42600314e+00,\n",
       "       -7.79817272e-02,  2.08111051e+00,  2.49748480e-01, -1.15259276e+00,\n",
       "       -1.08573770e-02, -2.25622220e+00, -8.25147168e-01,  4.03464697e-01,\n",
       "        6.11215807e-01,  4.86966997e-01,  1.47028569e+00,  3.40587158e-02,\n",
       "       -1.87710679e+00, -1.21013202e-01,  1.42529305e+00,  1.73713311e+00,\n",
       "       -2.23423542e+00,  8.82694790e-01, -1.19945018e+00,  2.49110405e+00,\n",
       "       -4.13804902e-01, -1.84623697e+00, -4.57150009e-01, -4.59487845e-01,\n",
       "        9.40839894e-01,  2.23001693e-01,  1.69740766e-02, -1.06747149e+00,\n",
       "        3.26062759e-01, -1.94877298e-01,  1.85363672e+00,  3.51039558e-01,\n",
       "       -2.86130547e-01, -3.08723024e-01, -7.11716666e-01, -6.88556227e-01,\n",
       "       -9.93917891e-01,  1.46150438e+00,  3.35683093e-01, -1.00986291e-02,\n",
       "        5.05618611e-02, -3.86006259e-01, -6.11760411e-01,  1.81094714e-01,\n",
       "       -7.14390828e-01,  5.11791380e-01,  8.31749588e-01, -2.35399324e+00,\n",
       "       -2.33352328e-01, -4.74280577e-01,  1.26130146e+00,  1.26040766e+00,\n",
       "        1.02705133e+00, -1.07218214e+00,  1.05435703e+00, -1.03710630e+00,\n",
       "       -5.46444093e-01, -5.76584747e-01, -9.47759659e-02, -1.59626904e+00,\n",
       "       -9.52851574e-01, -9.76484087e-01, -9.14921021e-01, -4.86379454e-01,\n",
       "        1.51220426e+00, -4.33702883e-01,  2.06103868e+00, -1.63487844e+00,\n",
       "       -9.42472829e-01, -1.40626877e+00, -2.37966199e-01,  1.60337472e-01,\n",
       "        1.26203846e+00,  5.73441893e-01, -1.21526101e+00,  9.27670940e-02,\n",
       "        7.91600546e-01,  4.35010765e-01, -8.65363301e-01, -4.69464200e-01,\n",
       "        1.48902941e+00,  4.35771394e-01, -1.86132770e-01, -4.98464650e-01,\n",
       "        8.97275603e-01,  1.10092904e+00,  6.49981759e-01,  4.86907906e-01,\n",
       "       -2.68542746e-01, -1.37766651e-01, -1.43612564e-01,  2.17885463e-01,\n",
       "       -9.23380141e-02, -9.88366391e-03,  8.66802036e-01,  1.25043611e+00,\n",
       "        5.19012763e-01,  1.29957633e+00,  8.09291588e-01,  1.70968708e+00,\n",
       "        1.03157496e+00, -4.51916310e-01, -6.93208250e-02,  9.15220266e-01,\n",
       "       -7.66263410e-01, -1.66835474e-01, -1.16635427e+00,  1.33011373e+00,\n",
       "       -4.77709662e-01, -6.83918083e-01, -3.63454032e-01,  3.02845477e-01,\n",
       "       -1.07785908e+00, -4.62877778e-01, -1.48826178e+00,  8.03063363e-02,\n",
       "       -2.90552956e+00, -8.12668242e-01, -3.34937841e+00, -1.87933667e+00,\n",
       "        1.32112177e+00,  1.52316916e+00,  1.12095052e+00, -8.24174753e-01,\n",
       "       -1.09979181e+00,  1.96673655e+00, -1.63889445e-01,  3.62263861e-01,\n",
       "        1.12173204e+00, -2.14314284e+00,  4.09432468e-01, -6.42353550e-01,\n",
       "       -1.25007785e+00,  7.56407924e-01, -3.82086404e-02, -1.18874727e+00,\n",
       "       -5.64586880e-01,  1.81615110e-02, -2.77820826e-01,  2.60734882e-01,\n",
       "       -7.42767419e-01,  2.05823991e-01, -6.68078284e-03,  2.63039707e+00,\n",
       "        1.58335627e+00,  1.84593783e+00, -7.77683603e-01, -2.87201691e-01,\n",
       "       -2.80562424e-01, -1.58017201e-01, -1.83742849e+00, -1.35601280e+00,\n",
       "        5.48584401e-01, -9.53842733e-01,  2.36351790e+00,  8.65889168e-01,\n",
       "        6.00362214e-01,  5.79123320e-01,  1.41876757e-01,  2.58258389e-01,\n",
       "        1.25300787e-01,  9.41803377e-01, -2.75896175e-02, -7.11808505e-01,\n",
       "       -4.01554187e-01, -9.81989149e-01, -1.37641472e-01, -1.15471265e+00,\n",
       "       -6.29285850e-01, -7.66261294e-01, -2.38978571e+00,  1.55375600e+00,\n",
       "        6.76026904e-01, -4.36560183e-03,  1.12238887e+00, -2.41972779e-02,\n",
       "        7.18387842e-02, -2.37383014e-01, -6.92375423e-01,  4.69946071e-01,\n",
       "        8.28286754e-01, -7.33091151e-01, -2.24663731e+00,  3.06106228e-01,\n",
       "       -1.75177100e+00,  1.10157603e+00,  1.46340775e+00,  8.50663862e-01,\n",
       "       -1.70868758e-01, -2.06426095e+00, -1.54050728e+00,  3.78419582e-01,\n",
       "        3.89291308e-01, -2.19505770e-01,  1.25019089e+00,  1.18691901e+00,\n",
       "       -6.05126796e-01, -6.54199731e-02, -7.72765258e-01,  1.16620610e+00,\n",
       "        2.01163760e-01, -9.76182438e-01, -3.46869543e-01,  4.92314923e-01,\n",
       "       -2.52754509e+00,  1.67735914e+00, -9.64889182e-01,  3.72273264e-01,\n",
       "        1.61057861e-01, -6.20163079e-01, -6.40205616e-01, -1.87272823e+00,\n",
       "        2.49723371e-03,  3.11090316e-01, -8.10969911e-01, -3.16981297e-01,\n",
       "       -1.13051154e+00, -7.67669779e-01,  1.37477206e+00, -1.85689581e+00,\n",
       "       -4.85096203e-01,  5.32328145e-01,  6.09193070e-01,  4.79131089e-01,\n",
       "        6.76827917e-01, -2.69164984e-01,  1.01908519e-02,  2.09609493e-01,\n",
       "       -6.66293045e-01,  3.85779860e-02, -6.37991466e-01, -4.31968571e-01,\n",
       "       -1.35708676e+00, -8.31581266e-01,  2.83906419e+00, -5.63388552e-01,\n",
       "       -2.02076979e+00,  2.02147366e+00,  2.45086289e-01,  6.74903967e-03,\n",
       "       -5.62374111e-01,  3.71658473e-01, -1.22291369e+00,  4.40286934e-01,\n",
       "        3.14637683e-01, -1.03715293e-01, -1.42276303e+00, -5.11397592e-01,\n",
       "        4.85201494e-01,  1.21622084e+00,  6.41017186e-01, -7.40502279e-01,\n",
       "        3.00719769e-01,  5.35174810e-01, -3.59376740e-01,  6.02917216e-01,\n",
       "       -4.21637333e-01, -1.76930194e+00,  4.18533948e-02,  1.41763155e+00,\n",
       "        1.69176433e-01,  1.15580189e+00,  9.97680625e-01, -9.63419317e-01,\n",
       "        7.04089534e-01, -1.67435213e+00,  4.93404740e-02, -5.14505684e-01,\n",
       "        1.40936669e+00, -7.60417323e-01, -1.22719916e+00,  1.23867298e-01,\n",
       "       -9.69193401e-01,  2.13576002e-02,  4.39490147e-01,  1.15212594e-01,\n",
       "        7.00741911e-01, -3.21510451e-01,  1.13183020e+00, -2.59826416e+00,\n",
       "       -8.60477630e-01, -1.45004118e+00, -1.59826085e+00, -1.39567895e+00,\n",
       "        1.14479186e+00, -1.14033093e+00, -3.13952841e-01, -7.41570482e-01,\n",
       "       -5.16075012e-01, -5.20509605e-01,  3.06849161e-01, -4.68358022e-01,\n",
       "       -1.15180776e+00,  2.31160457e-01,  2.38163076e+00, -8.89456863e-02,\n",
       "        8.69232984e-01, -1.45117812e+00,  1.85595092e-01, -4.20182679e-01,\n",
       "        1.67613499e-01, -5.24234823e-01,  9.53114766e-02,  4.11478257e-02,\n",
       "       -4.37787724e-01, -5.36060377e-01,  1.44739224e+00,  9.08893681e-01,\n",
       "       -3.00601257e-01,  7.16214237e-01,  7.69751938e-01,  6.29607866e-01,\n",
       "       -3.52303965e-01,  2.09595402e+00, -1.14547778e+00, -1.81187745e-01,\n",
       "        3.18159954e-01,  2.32328349e+00,  2.03183862e-01,  9.85540999e-03,\n",
       "        6.47067022e-01,  9.11678622e-02, -1.20122782e+00, -1.08124129e+00,\n",
       "        2.56944905e-01, -2.03264562e-01, -6.47440316e-02,  7.15281550e-01,\n",
       "       -3.41655321e-01,  1.45813873e+00,  2.67780420e-01, -5.79125678e-01,\n",
       "        1.70936742e+00,  7.44376468e-01, -2.99573136e-01, -3.05554099e-01,\n",
       "        6.77341641e-01,  6.27884446e-01, -3.62603720e-02, -3.74392991e-01,\n",
       "       -1.48632923e+00,  3.44059829e-01,  2.73118647e-01, -2.49289289e-01,\n",
       "       -6.00080115e-01,  2.00997054e+00,  3.06330751e-01,  1.60725083e+00,\n",
       "        1.18489049e+00,  1.23755004e-01, -1.58662117e-01, -4.50798162e-01,\n",
       "        9.55185773e-01,  4.40157404e-01, -4.75028498e-01,  6.39428327e-01,\n",
       "       -4.22809535e-01,  1.03418823e-01, -6.03169307e-01, -1.75450820e-01,\n",
       "       -4.68781758e-01,  2.94107033e-01, -6.45090647e-01,  3.36299338e-01,\n",
       "        1.02108296e+00,  7.68882004e-01,  7.18952235e-01, -4.75220799e-03,\n",
       "        6.46086385e-01, -1.47153042e+00,  1.84047568e+00, -7.65612969e-01,\n",
       "       -8.65781922e-03, -5.66390300e-01, -6.85703307e-01, -1.03570220e+00,\n",
       "       -7.04944298e-01,  3.41755310e-01,  4.40140895e-01, -5.95647064e-01,\n",
       "       -2.63211588e-02, -6.66484452e-01,  7.71738925e-02, -3.87567621e-01,\n",
       "       -1.87041099e+00,  5.05925914e-01,  9.98382812e-01,  2.06151425e+00,\n",
       "        1.92548072e-01,  8.91336103e-01,  3.82185780e-01, -1.57016532e+00,\n",
       "       -8.62962917e-01,  3.50284294e-01,  3.41489862e-01,  6.30714627e-01,\n",
       "       -6.79012165e-01,  3.89166435e-01, -6.21260792e-03,  1.35063560e+00,\n",
       "       -1.63239580e+00, -9.20258403e-01, -2.99480534e-01,  2.50065004e-01,\n",
       "        5.77184418e-01,  4.08042532e-01,  1.30997866e+00,  3.51976643e-01,\n",
       "       -5.09888456e-01, -1.50700259e+00, -3.17376581e-01, -1.26916639e+00,\n",
       "        9.16658087e-01, -7.98277657e-01,  8.21262758e-02,  4.94819963e-01,\n",
       "       -4.72553735e-01, -1.12260244e+00,  4.27542088e-01,  3.55839890e-01])"
      ]
     },
     "execution_count": 23,
     "metadata": {},
     "output_type": "execute_result"
    }
   ],
   "source": [
    "my_data"
   ]
  },
  {
   "cell_type": "code",
   "execution_count": 24,
   "id": "89ead3fa-49bd-40c9-bae5-86346e6df923",
   "metadata": {},
   "outputs": [],
   "source": [
    "import seaborn as sns"
   ]
  },
  {
   "cell_type": "code",
   "execution_count": 25,
   "id": "2722ac08-cc13-4d88-8263-f180ecf794f5",
   "metadata": {},
   "outputs": [
    {
     "name": "stderr",
     "output_type": "stream",
     "text": [
      "C:\\Users\\AYAN\\AppData\\Local\\Temp\\ipykernel_5604\\659373325.py:1: UserWarning: \n",
      "\n",
      "`distplot` is a deprecated function and will be removed in seaborn v0.14.0.\n",
      "\n",
      "Please adapt your code to use either `displot` (a figure-level function with\n",
      "similar flexibility) or `histplot` (an axes-level function for histograms).\n",
      "\n",
      "For a guide to updating your code to use the new functions, please see\n",
      "https://gist.github.com/mwaskom/de44147ed2974457ad6372750bbe5751\n",
      "\n",
      "  sns.distplot(my_data)\n",
      "C:\\ProgramData\\anaconda3\\Lib\\site-packages\\seaborn\\_oldcore.py:1119: FutureWarning: use_inf_as_na option is deprecated and will be removed in a future version. Convert inf values to NaN before operating instead.\n",
      "  with pd.option_context('mode.use_inf_as_na', True):\n"
     ]
    },
    {
     "data": {
      "text/plain": [
       "<Axes: ylabel='Density'>"
      ]
     },
     "execution_count": 25,
     "metadata": {},
     "output_type": "execute_result"
    },
    {
     "data": {
      "image/png": "[encoded data removed]",
      "text/plain": [
       "<Figure size 640x480 with 1 Axes>"
      ]
     },
     "metadata": {},
     "output_type": "display_data"
    }
   ],
   "source": [
    "sns.distplot(my_data)"
   ]
  },
  {
   "cell_type": "code",
   "execution_count": 26,
   "id": "6859d408-6c71-42ad-aa37-f3e72032cc95",
   "metadata": {},
   "outputs": [
    {
     "data": {
      "text/plain": [
       "NormaltestResult(statistic=0.7288183537659578, pvalue=0.6946069194932329)"
      ]
     },
     "execution_count": 26,
     "metadata": {},
     "output_type": "execute_result"
    }
   ],
   "source": [
    "from scipy import stats\n",
    "stats.normaltest(my_data)\n"
   ]
  },
  {
   "cell_type": "code",
   "execution_count": 27,
   "id": "78082536-bddf-4bad-af2a-8a3bb8d57d6c",
   "metadata": {},
   "outputs": [],
   "source": [
    "sample_mean_iq=110\n",
    "alpha=0.05\n",
    "ci=0.95\n"
   ]
  },
  {
   "cell_type": "code",
   "execution_count": 28,
   "id": "e735d63c-f44f-48b5-ad17-cd76c5d87307",
   "metadata": {},
   "outputs": [],
   "source": [
    "mean_population=100\n",
    "population_std=15"
   ]
  },
  {
   "cell_type": "code",
   "execution_count": 29,
   "id": "aa878fed-e4c9-46b6-ba7b-d862172da0bd",
   "metadata": {},
   "outputs": [
    {
     "data": {
      "text/plain": [
       "array([122.30743888, 106.05204598, 124.86564422, 109.46008761,\n",
       "       107.05808259,  99.24654779, 108.05451389, 102.54529644,\n",
       "       118.91469935, 104.99956171,  78.45501667, 128.461812  ,\n",
       "       114.37000863, 105.30142979, 120.62674418, 108.3336865 ,\n",
       "       111.14809805, 107.62639759, 101.46499478,  88.6239353 ,\n",
       "       115.94069202, 124.74168575, 120.38294632, 108.10700778,\n",
       "       101.67715194, 107.22957151,  86.51308313, 136.99371638,\n",
       "       128.29677452, 102.16234715, 128.00039844, 134.91850753,\n",
       "        95.82386249, 103.19156476, 144.06473396,  95.44820044,\n",
       "       115.44247923, 109.94673808, 119.41828484, 101.74832759,\n",
       "       112.8102685 , 133.70164973, 108.64458934, 126.35479372,\n",
       "       117.79638499, 112.1061316 , 125.33715536, 139.78671257,\n",
       "       108.47426933, 124.55888044])"
      ]
     },
     "execution_count": 29,
     "metadata": {},
     "output_type": "execute_result"
    }
   ],
   "source": [
    "population_std*randn(50)+sample_mean_iq"
   ]
  },
  {
   "cell_type": "code",
   "execution_count": 30,
   "id": "463554f9-b2a3-4f58-983c-48415d6b07ad",
   "metadata": {},
   "outputs": [],
   "source": [
    "data=population_std*randn(50)+sample_mean_iq"
   ]
  },
  {
   "cell_type": "code",
   "execution_count": 31,
   "id": "22927d94-1339-41f5-9951-da5421c1aa36",
   "metadata": {},
   "outputs": [
    {
     "data": {
      "text/plain": [
       "110.66523955965935"
      ]
     },
     "execution_count": 31,
     "metadata": {},
     "output_type": "execute_result"
    }
   ],
   "source": [
    "np.mean(data)"
   ]
  },
  {
   "cell_type": "code",
   "execution_count": 32,
   "id": "f7d3537d-020e-4c28-bf01-19bdff1d1c6d",
   "metadata": {},
   "outputs": [
    {
     "data": {
      "text/plain": [
       "15.362662142933663"
      ]
     },
     "execution_count": 32,
     "metadata": {},
     "output_type": "execute_result"
    }
   ],
   "source": [
    "np.std(data)"
   ]
  },
  {
   "cell_type": "code",
   "execution_count": 33,
   "id": "2b9af5ef-075e-4d8c-88da-cb95e6134178",
   "metadata": {},
   "outputs": [],
   "source": [
    "null_hypothisis=mean_population"
   ]
  },
  {
   "cell_type": "code",
   "execution_count": 39,
   "id": "4d0ca306-8f7f-44c7-8a5a-7914750b8f3a",
   "metadata": {},
   "outputs": [],
   "source": [
    "from statsmodels.stats.weightstats import ztest"
   ]
  },
  {
   "cell_type": "code",
   "execution_count": 42,
   "id": "9128e75d-37d6-4f28-b2cb-8ad0ce236bd5",
   "metadata": {},
   "outputs": [
    {
     "data": {
      "text/plain": [
       "(4.859618484284326, 5.880608890075992e-07)"
      ]
     },
     "execution_count": 42,
     "metadata": {},
     "output_type": "execute_result"
    }
   ],
   "source": [
    "ztest(data,value=null_hypothisis,alternative=\"larger\")"
   ]
  },
  {
   "cell_type": "code",
   "execution_count": 43,
   "id": "5d8aeaed-1fdd-4efe-9106-d5335cace3e6",
   "metadata": {},
   "outputs": [],
   "source": [
    "#test"
   ]
  },
  {
   "cell_type": "code",
   "execution_count": 44,
   "id": "c9acde4d-ef41-49cf-9708-f5d878d1649e",
   "metadata": {},
   "outputs": [],
   "source": [
    "data1=[10,20,34,46,89,78,45,76,45,67,83,24,34]"
   ]
  },
  {
   "cell_type": "code",
   "execution_count": 45,
   "id": "e8dc2d51-ace1-4ae9-a5c3-9cf16edbd3c2",
   "metadata": {},
   "outputs": [
    {
     "data": {
      "text/plain": [
       "13"
      ]
     },
     "execution_count": 45,
     "metadata": {},
     "output_type": "execute_result"
    }
   ],
   "source": [
    "len(data1)"
   ]
  },
  {
   "cell_type": "code",
   "execution_count": 46,
   "id": "93354449-29b7-4981-9679-3b7e913bd145",
   "metadata": {},
   "outputs": [
    {
     "data": {
      "text/plain": [
       "50.07692307692308"
      ]
     },
     "execution_count": 46,
     "metadata": {},
     "output_type": "execute_result"
    }
   ],
   "source": [
    "np.mean(data1)"
   ]
  },
  {
   "cell_type": "code",
   "execution_count": 47,
   "id": "10c2a410-570c-4cb3-ae21-02e869535bce",
   "metadata": {},
   "outputs": [
    {
     "ename": "SyntaxError",
     "evalue": "invalid syntax (745002998.py, line 1)",
     "output_type": "error",
     "traceback": [
      "\u001b[1;36m  Cell \u001b[1;32mIn[47], line 1\u001b[1;36m\u001b[0m\n\u001b[1;33m    null_hypothisis=sample_mean shild be 50.07\u001b[0m\n\u001b[1;37m                                ^\u001b[0m\n\u001b[1;31mSyntaxError\u001b[0m\u001b[1;31m:\u001b[0m invalid syntax\n"
     ]
    }
   ],
   "source": [
    "null_hypothisis=sample_mean should be 50.07"
   ]
  },
  {
   "cell_type": "code",
   "execution_count": 51,
   "id": "cdc42b3b-fadb-494f-b151-f4531850ae8e",
   "metadata": {},
   "outputs": [],
   "source": [
    "import scipy\n",
    "result=scipy.stats.ttest_1samp(data1,15)"
   ]
  },
  {
   "cell_type": "code",
   "execution_count": 52,
   "id": "84a14806-f47e-4bfc-8a56-75f56ddca8ec",
   "metadata": {},
   "outputs": [
    {
     "data": {
      "text/plain": [
       "TtestResult(statistic=4.8640172943144595, pvalue=0.00038889656344342675, df=12)"
      ]
     },
     "execution_count": 52,
     "metadata": {},
     "output_type": "execute_result"
    }
   ],
   "source": [
    "result"
   ]
  },
  {
   "cell_type": "code",
   "execution_count": 55,
   "id": "8ea28e02-541d-4177-adcd-dbf6abe37f1d",
   "metadata": {},
   "outputs": [],
   "source": [
    "p_value=result[1]"
   ]
  },
  {
   "cell_type": "code",
   "execution_count": 56,
   "id": "d34d3cf1-a3c1-4971-86b2-e09b445d2f29",
   "metadata": {},
   "outputs": [
    {
     "name": "stdout",
     "output_type": "stream",
     "text": [
      "reject the null hypothiis\n"
     ]
    }
   ],
   "source": [
    "if p_value<0.05:\n",
    "    print(\"reject the null hypothiis\")\n",
    "else:\n",
    "    print(\"fail to reject the null hypothisis\")"
   ]
  },
  {
   "cell_type": "code",
   "execution_count": 61,
   "id": "b029e0c8-7640-4dda-88b8-82e217cd9bb4",
   "metadata": {},
   "outputs": [],
   "source": [
    "result1=scipy.stats.ttest_1samp(data1,50)"
   ]
  },
  {
   "cell_type": "code",
   "execution_count": 63,
   "id": "eb15638a-35fd-460b-aec6-8fd93ed6845c",
   "metadata": {},
   "outputs": [],
   "source": [
    "p_value=result1[1]"
   ]
  },
  {
   "cell_type": "code",
   "execution_count": 64,
   "id": "da15a9a7-fbe0-42b9-bfdf-1c6e7144d5a2",
   "metadata": {},
   "outputs": [
    {
     "name": "stdout",
     "output_type": "stream",
     "text": [
      "fail to reject the null hypothisis\n"
     ]
    }
   ],
   "source": [
    "if p_value<0.05:\n",
    "    print(\"reject the null hypothiis\")\n",
    "else:\n",
    "    print(\"fail to reject the null hypothisis\")"
   ]
  },
  {
   "cell_type": "code",
   "execution_count": 65,
   "id": "fc69bfda-beeb-4545-826a-c9b919e22672",
   "metadata": {},
   "outputs": [],
   "source": [
    "#Two sample T_test"
   ]
  },
  {
   "cell_type": "code",
   "execution_count": 125,
   "id": "25824186-751c-4d7c-a855-f8a703288f79",
   "metadata": {},
   "outputs": [],
   "source": [
    "my_cricketscore=[10,100,23,26,23,78,25,76,15,22,23,24,34]\n",
    "virat_cricketscore=[34,44,35,98,78,76,56,78,43,57,89,98]"
   ]
  },
  {
   "cell_type": "code",
   "execution_count": 126,
   "id": "cf917495-227d-4cd9-8dc3-27423433ebec",
   "metadata": {},
   "outputs": [],
   "source": [
    "first_sample_mean=np.mean(my_cricketscore)"
   ]
  },
  {
   "cell_type": "code",
   "execution_count": 127,
   "id": "b706d66e-e891-438f-92e7-494681e900d0",
   "metadata": {},
   "outputs": [],
   "source": [
    "sceond_cricket_score=np.mean(virat_cricketscore)"
   ]
  },
  {
   "cell_type": "code",
   "execution_count": 128,
   "id": "fcf85897-741b-45fc-b2f8-2634d4abf4c3",
   "metadata": {},
   "outputs": [
    {
     "data": {
      "text/plain": [
       "36.84615384615385"
      ]
     },
     "execution_count": 128,
     "metadata": {},
     "output_type": "execute_result"
    }
   ],
   "source": [
    "first_sample_mean"
   ]
  },
  {
   "cell_type": "code",
   "execution_count": 129,
   "id": "bfeb3639-a7b9-4589-92ca-0f85014014e5",
   "metadata": {},
   "outputs": [
    {
     "data": {
      "text/plain": [
       "65.5"
      ]
     },
     "execution_count": 129,
     "metadata": {},
     "output_type": "execute_result"
    }
   ],
   "source": [
    "sceond_cricket_score"
   ]
  },
  {
   "cell_type": "code",
   "execution_count": 130,
   "id": "37473a5c-7724-48f0-9333-7834ce459bdf",
   "metadata": {},
   "outputs": [],
   "source": [
    "##my_nullhypothisis=both ample mean will equal"
   ]
  },
  {
   "cell_type": "code",
   "execution_count": 131,
   "id": "5e0eed95-64e6-4883-9c2c-a65bb746ee91",
   "metadata": {},
   "outputs": [],
   "source": [
    "result_ind=scipy.stats.ttest_ind(my_cricketscore,virat_cricketscore)"
   ]
  },
  {
   "cell_type": "code",
   "execution_count": 135,
   "id": "2f04c7ad-eb2f-4e40-a59e-e423403f6735",
   "metadata": {},
   "outputs": [
    {
     "data": {
      "text/plain": [
       "TtestResult(statistic=-2.732600299584944, pvalue=0.01186590027438363, df=23.0)"
      ]
     },
     "execution_count": 135,
     "metadata": {},
     "output_type": "execute_result"
    }
   ],
   "source": [
    "result_ind"
   ]
  },
  {
   "cell_type": "code",
   "execution_count": 133,
   "id": "2fe6f1c9-b9d3-4259-9dcf-43a93057e37e",
   "metadata": {},
   "outputs": [],
   "source": [
    "p_value=result_ind[1]"
   ]
  },
  {
   "cell_type": "code",
   "execution_count": 134,
   "id": "daf757e8-5ef0-43ee-aeb6-b4ae7e49fb6f",
   "metadata": {},
   "outputs": [
    {
     "name": "stdout",
     "output_type": "stream",
     "text": [
      "reject the null hypothiis\n"
     ]
    }
   ],
   "source": [
    "if p_value<0.05:\n",
    "    print(\"reject the null hypothiis\")\n",
    "else:\n",
    "    print(\"fail to reject the null hypothisis\")"
   ]
  },
  {
   "cell_type": "code",
   "execution_count": 82,
   "id": "16a7d715-3db9-40ae-b1f7-d59540c4972e",
   "metadata": {},
   "outputs": [],
   "source": [
    "my_cricketscore1=[10,20,50,46,89,78,86,76,76,67,83,57,89]\n",
    "virat_cricketscore1=[34,44,35,98,78,76,56,78,43,57,89,98]"
   ]
  },
  {
   "cell_type": "code",
   "execution_count": 83,
   "id": "9ed52e0b-e5ab-46a7-8ff8-6bb18fdecaeb",
   "metadata": {},
   "outputs": [],
   "source": [
    "first_sample_mean=np.mean(my_cricketscore1)"
   ]
  },
  {
   "cell_type": "code",
   "execution_count": 84,
   "id": "26b819f3-b15c-43f1-83bb-4624c202a66e",
   "metadata": {},
   "outputs": [],
   "source": [
    "sceond_cricket_score=np.mean(virat_cricketscore1)"
   ]
  },
  {
   "cell_type": "code",
   "execution_count": 85,
   "id": "a0c4bf1d-92bb-45c1-942a-997c4f7a1d23",
   "metadata": {},
   "outputs": [
    {
     "data": {
      "text/plain": [
       "63.61538461538461"
      ]
     },
     "execution_count": 85,
     "metadata": {},
     "output_type": "execute_result"
    }
   ],
   "source": [
    "first_sample_mean"
   ]
  },
  {
   "cell_type": "code",
   "execution_count": 86,
   "id": "4f3844ec-3428-4930-a909-9e5bb26b2b97",
   "metadata": {},
   "outputs": [
    {
     "data": {
      "text/plain": [
       "65.5"
      ]
     },
     "execution_count": 86,
     "metadata": {},
     "output_type": "execute_result"
    }
   ],
   "source": [
    "sceond_cricket_score"
   ]
  },
  {
   "cell_type": "code",
   "execution_count": 102,
   "id": "9f2fc122-db80-4faa-a152-71232b07d9fb",
   "metadata": {},
   "outputs": [
    {
     "name": "stdout",
     "output_type": "stream",
     "text": [
      "TtestResult(statistic=-0.1898148730034629, pvalue=0.8511194481203892, df=23.0)\n"
     ]
    }
   ],
   "source": [
    "result2=scipy.stats.ttest_ind(my_cricketscore1,virat_cricketscore1)\n",
    "print(result2)"
   ]
  },
  {
   "cell_type": "code",
   "execution_count": 103,
   "id": "d906d102-e0cf-4b2e-ad33-5688dcc7f8ba",
   "metadata": {},
   "outputs": [
    {
     "name": "stdout",
     "output_type": "stream",
     "text": [
      "0.8511194481203892\n"
     ]
    }
   ],
   "source": [
    "p_value1=result2[1]\n",
    "print(p_value1)"
   ]
  },
  {
   "cell_type": "code",
   "execution_count": 104,
   "id": "321e224c-b4ba-4676-b56b-c2f52212d1f5",
   "metadata": {},
   "outputs": [
    {
     "name": "stdout",
     "output_type": "stream",
     "text": [
      "fail to reject the null hypothisis\n"
     ]
    }
   ],
   "source": [
    "if p_value1<0.05:\n",
    "    print(\"reject the null hypothiis\")\n",
    "else:\n",
    "    print(\"fail to reject the null hypothisis\")"
   ]
  },
  {
   "cell_type": "code",
   "execution_count": 136,
   "id": "3e245a07-7935-4a93-b1f2-e3f1aad75842",
   "metadata": {},
   "outputs": [],
   "source": [
    "n=25\n",
    "population_mean=45\n",
    "sampe_mean=75\n",
    "std=25"
   ]
  },
  {
   "cell_type": "code",
   "execution_count": 137,
   "id": "911e64da-480e-40d6-b751-7380848f29f0",
   "metadata": {},
   "outputs": [],
   "source": [
    "t_test=(sample_mean-population_mean)/(std/np.sqrt(n))"
   ]
  },
  {
   "cell_type": "code",
   "execution_count": 138,
   "id": "a4dff013-0ae8-4607-80ac-bfabdc133989",
   "metadata": {},
   "outputs": [
    {
     "data": {
      "text/plain": [
       "13.0"
      ]
     },
     "execution_count": 138,
     "metadata": {},
     "output_type": "execute_result"
    }
   ],
   "source": [
    "t_test"
   ]
  },
  {
   "cell_type": "code",
   "execution_count": 139,
   "id": "57cacca4-a18f-482b-83cb-9195c9b68987",
   "metadata": {},
   "outputs": [],
   "source": [
    "df=n-1"
   ]
  },
  {
   "cell_type": "code",
   "execution_count": 140,
   "id": "c111f34f-91d4-4226-96e0-e74f0a3e406a",
   "metadata": {},
   "outputs": [
    {
     "data": {
      "text/plain": [
       "24"
      ]
     },
     "execution_count": 140,
     "metadata": {},
     "output_type": "execute_result"
    }
   ],
   "source": [
    "df"
   ]
  },
  {
   "cell_type": "code",
   "execution_count": 141,
   "id": "b1623732-5482-4ff7-b13e-e7ab8c84996c",
   "metadata": {},
   "outputs": [],
   "source": [
    "alpha=0.05"
   ]
  },
  {
   "cell_type": "code",
   "execution_count": 142,
   "id": "81113d7a-fad9-45ba-89dc-44e46b73826e",
   "metadata": {},
   "outputs": [],
   "source": [
    "CI=1-alpha"
   ]
  },
  {
   "cell_type": "code",
   "execution_count": 144,
   "id": "1ec1582c-06dc-43eb-823e-fab9e2d98b5f",
   "metadata": {},
   "outputs": [
    {
     "data": {
      "text/plain": [
       "0.95"
      ]
     },
     "execution_count": 144,
     "metadata": {},
     "output_type": "execute_result"
    }
   ],
   "source": [
    "CI"
   ]
  },
  {
   "cell_type": "code",
   "execution_count": 145,
   "id": "7e212bf2-d3ac-45a2-b284-f84652a3811e",
   "metadata": {},
   "outputs": [],
   "source": [
    "critical_value=stats.t.ppf(CI,df)"
   ]
  },
  {
   "cell_type": "code",
   "execution_count": 146,
   "id": "4547c1ef-3ef3-4af5-a974-bcb99db11d12",
   "metadata": {},
   "outputs": [
    {
     "data": {
      "text/plain": [
       "1.7108820799094275"
      ]
     },
     "execution_count": 146,
     "metadata": {},
     "output_type": "execute_result"
    }
   ],
   "source": [
    "critical_value"
   ]
  },
  {
   "cell_type": "code",
   "execution_count": 147,
   "id": "2d26ba1a-9523-4b22-b530-4322fd29a496",
   "metadata": {},
   "outputs": [
    {
     "name": "stdout",
     "output_type": "stream",
     "text": [
      "t_stats 13.0\n",
      "critical_value 1.7108820799094275\n"
     ]
    }
   ],
   "source": [
    "print(\"t_stats\",t_test)\n",
    "print(\"critical_value\",critical_value)"
   ]
  },
  {
   "cell_type": "code",
   "execution_count": 150,
   "id": "de5dea0c-5509-4f3c-9fc4-5806a88ea5d4",
   "metadata": {},
   "outputs": [
    {
     "name": "stdout",
     "output_type": "stream",
     "text": [
      "reject the null hyphothesis\n"
     ]
    }
   ],
   "source": [
    "if t_test>critical_value:\n",
    "    print(\"reject the null hyphothesis\")\n",
    "else:\n",
    "    print(\"accept the null hyphothesis\")"
   ]
  },
  {
   "cell_type": "code",
   "execution_count": null,
   "id": "b0397ae7-ccbf-417e-bba7-405d05a8a825",
   "metadata": {},
   "outputs": [],
   "source": [
    "#chi square test\n"
   ]
  },
  {
   "cell_type": "code",
   "execution_count": 152,
   "id": "529417c3-d678-4424-b3ee-f6b4abf66b50",
   "metadata": {},
   "outputs": [],
   "source": [
    "dataset=sns.load_dataset('Tips')"
   ]
  },
  {
   "cell_type": "code",
   "execution_count": 153,
   "id": "bc3e12a1-0f24-4432-ad45-607465be1295",
   "metadata": {},
   "outputs": [
    {
     "data": {
      "text/html": [
       "<div>\n",
       "<style scoped>\n",
       "    .dataframe tbody tr th:only-of-type {\n",
       "        vertical-align: middle;\n",
       "    }\n",
       "\n",
       "    .dataframe tbody tr th {\n",
       "        vertical-align: top;\n",
       "    }\n",
       "\n",
       "    .dataframe thead th {\n",
       "        text-align: right;\n",
       "    }\n",
       "</style>\n",
       "<table border=\"1\" class=\"dataframe\">\n",
       "  <thead>\n",
       "    <tr style=\"text-align: right;\">\n",
       "      <th></th>\n",
       "      <th>total_bill</th>\n",
       "      <th>tip</th>\n",
       "      <th>sex</th>\n",
       "      <th>smoker</th>\n",
       "      <th>day</th>\n",
       "      <th>time</th>\n",
       "      <th>size</th>\n",
       "    </tr>\n",
       "  </thead>\n",
       "  <tbody>\n",
       "    <tr>\n",
       "      <th>0</th>\n",
       "      <td>16.99</td>\n",
       "      <td>1.01</td>\n",
       "      <td>Female</td>\n",
       "      <td>No</td>\n",
       "      <td>Sun</td>\n",
       "      <td>Dinner</td>\n",
       "      <td>2</td>\n",
       "    </tr>\n",
       "    <tr>\n",
       "      <th>1</th>\n",
       "      <td>10.34</td>\n",
       "      <td>1.66</td>\n",
       "      <td>Male</td>\n",
       "      <td>No</td>\n",
       "      <td>Sun</td>\n",
       "      <td>Dinner</td>\n",
       "      <td>3</td>\n",
       "    </tr>\n",
       "    <tr>\n",
       "      <th>2</th>\n",
       "      <td>21.01</td>\n",
       "      <td>3.50</td>\n",
       "      <td>Male</td>\n",
       "      <td>No</td>\n",
       "      <td>Sun</td>\n",
       "      <td>Dinner</td>\n",
       "      <td>3</td>\n",
       "    </tr>\n",
       "    <tr>\n",
       "      <th>3</th>\n",
       "      <td>23.68</td>\n",
       "      <td>3.31</td>\n",
       "      <td>Male</td>\n",
       "      <td>No</td>\n",
       "      <td>Sun</td>\n",
       "      <td>Dinner</td>\n",
       "      <td>2</td>\n",
       "    </tr>\n",
       "    <tr>\n",
       "      <th>4</th>\n",
       "      <td>24.59</td>\n",
       "      <td>3.61</td>\n",
       "      <td>Female</td>\n",
       "      <td>No</td>\n",
       "      <td>Sun</td>\n",
       "      <td>Dinner</td>\n",
       "      <td>4</td>\n",
       "    </tr>\n",
       "  </tbody>\n",
       "</table>\n",
       "</div>"
      ],
      "text/plain": [
       "   total_bill   tip     sex smoker  day    time  size\n",
       "0       16.99  1.01  Female     No  Sun  Dinner     2\n",
       "1       10.34  1.66    Male     No  Sun  Dinner     3\n",
       "2       21.01  3.50    Male     No  Sun  Dinner     3\n",
       "3       23.68  3.31    Male     No  Sun  Dinner     2\n",
       "4       24.59  3.61  Female     No  Sun  Dinner     4"
      ]
     },
     "execution_count": 153,
     "metadata": {},
     "output_type": "execute_result"
    }
   ],
   "source": [
    "dataset.head()"
   ]
  },
  {
   "cell_type": "code",
   "execution_count": 154,
   "id": "ad4dc4b2-9c86-4d36-8047-520e6a649c35",
   "metadata": {},
   "outputs": [
    {
     "data": {
      "text/plain": [
       "total_bill    0\n",
       "tip           0\n",
       "sex           0\n",
       "smoker        0\n",
       "day           0\n",
       "time          0\n",
       "size          0\n",
       "dtype: int64"
      ]
     },
     "execution_count": 154,
     "metadata": {},
     "output_type": "execute_result"
    }
   ],
   "source": [
    "dataset.isnull().sum()"
   ]
  },
  {
   "cell_type": "code",
   "execution_count": 155,
   "id": "832c1935-4dfc-4ce8-b021-b6e293fcdb56",
   "metadata": {},
   "outputs": [
    {
     "name": "stdout",
     "output_type": "stream",
     "text": [
      "<class 'pandas.core.frame.DataFrame'>\n",
      "RangeIndex: 244 entries, 0 to 243\n",
      "Data columns (total 7 columns):\n",
      " #   Column      Non-Null Count  Dtype  \n",
      "---  ------      --------------  -----  \n",
      " 0   total_bill  244 non-null    float64\n",
      " 1   tip         244 non-null    float64\n",
      " 2   sex         244 non-null    object \n",
      " 3   smoker      244 non-null    object \n",
      " 4   day         244 non-null    object \n",
      " 5   time        244 non-null    object \n",
      " 6   size        244 non-null    int64  \n",
      "dtypes: float64(2), int64(1), object(4)\n",
      "memory usage: 13.5+ KB\n"
     ]
    }
   ],
   "source": [
    "dataset.info()"
   ]
  },
  {
   "cell_type": "code",
   "execution_count": 157,
   "id": "8fd10d4c-ceff-41cc-b63d-b8783cc3ad1c",
   "metadata": {},
   "outputs": [
    {
     "data": {
      "text/plain": [
       "Index(['total_bill', 'tip', 'sex', 'smoker', 'day', 'time', 'size'], dtype='object')"
      ]
     },
     "execution_count": 157,
     "metadata": {},
     "output_type": "execute_result"
    }
   ],
   "source": [
    "dataset.columns"
   ]
  },
  {
   "cell_type": "code",
   "execution_count": 158,
   "id": "cf99532c-e47e-4210-9e43-071c6778a6e2",
   "metadata": {},
   "outputs": [
    {
     "data": {
      "text/html": [
       "<div>\n",
       "<style scoped>\n",
       "    .dataframe tbody tr th:only-of-type {\n",
       "        vertical-align: middle;\n",
       "    }\n",
       "\n",
       "    .dataframe tbody tr th {\n",
       "        vertical-align: top;\n",
       "    }\n",
       "\n",
       "    .dataframe thead th {\n",
       "        text-align: right;\n",
       "    }\n",
       "</style>\n",
       "<table border=\"1\" class=\"dataframe\">\n",
       "  <thead>\n",
       "    <tr style=\"text-align: right;\">\n",
       "      <th></th>\n",
       "      <th>sex</th>\n",
       "      <th>smoker</th>\n",
       "    </tr>\n",
       "  </thead>\n",
       "  <tbody>\n",
       "    <tr>\n",
       "      <th>0</th>\n",
       "      <td>Female</td>\n",
       "      <td>No</td>\n",
       "    </tr>\n",
       "    <tr>\n",
       "      <th>1</th>\n",
       "      <td>Male</td>\n",
       "      <td>No</td>\n",
       "    </tr>\n",
       "    <tr>\n",
       "      <th>2</th>\n",
       "      <td>Male</td>\n",
       "      <td>No</td>\n",
       "    </tr>\n",
       "    <tr>\n",
       "      <th>3</th>\n",
       "      <td>Male</td>\n",
       "      <td>No</td>\n",
       "    </tr>\n",
       "    <tr>\n",
       "      <th>4</th>\n",
       "      <td>Female</td>\n",
       "      <td>No</td>\n",
       "    </tr>\n",
       "    <tr>\n",
       "      <th>...</th>\n",
       "      <td>...</td>\n",
       "      <td>...</td>\n",
       "    </tr>\n",
       "    <tr>\n",
       "      <th>239</th>\n",
       "      <td>Male</td>\n",
       "      <td>No</td>\n",
       "    </tr>\n",
       "    <tr>\n",
       "      <th>240</th>\n",
       "      <td>Female</td>\n",
       "      <td>Yes</td>\n",
       "    </tr>\n",
       "    <tr>\n",
       "      <th>241</th>\n",
       "      <td>Male</td>\n",
       "      <td>Yes</td>\n",
       "    </tr>\n",
       "    <tr>\n",
       "      <th>242</th>\n",
       "      <td>Male</td>\n",
       "      <td>No</td>\n",
       "    </tr>\n",
       "    <tr>\n",
       "      <th>243</th>\n",
       "      <td>Female</td>\n",
       "      <td>No</td>\n",
       "    </tr>\n",
       "  </tbody>\n",
       "</table>\n",
       "<p>244 rows × 2 columns</p>\n",
       "</div>"
      ],
      "text/plain": [
       "        sex smoker\n",
       "0    Female     No\n",
       "1      Male     No\n",
       "2      Male     No\n",
       "3      Male     No\n",
       "4    Female     No\n",
       "..      ...    ...\n",
       "239    Male     No\n",
       "240  Female    Yes\n",
       "241    Male    Yes\n",
       "242    Male     No\n",
       "243  Female     No\n",
       "\n",
       "[244 rows x 2 columns]"
      ]
     },
     "execution_count": 158,
     "metadata": {},
     "output_type": "execute_result"
    }
   ],
   "source": [
    "dataset[['sex','smoker']]"
   ]
  },
  {
   "cell_type": "code",
   "execution_count": 163,
   "id": "f182ae8a-6c70-48e4-85f0-2aa8d20b73bf",
   "metadata": {},
   "outputs": [],
   "source": [
    "import pandas as pd\n",
    "dataset_table=pd.crosstab(dataset['sex'],dataset['smoker'])"
   ]
  },
  {
   "cell_type": "code",
   "execution_count": 180,
   "id": "135368ef-399d-45c2-b0f3-4372bbcdc097",
   "metadata": {},
   "outputs": [
    {
     "data": {
      "text/html": [
       "<div>\n",
       "<style scoped>\n",
       "    .dataframe tbody tr th:only-of-type {\n",
       "        vertical-align: middle;\n",
       "    }\n",
       "\n",
       "    .dataframe tbody tr th {\n",
       "        vertical-align: top;\n",
       "    }\n",
       "\n",
       "    .dataframe thead th {\n",
       "        text-align: right;\n",
       "    }\n",
       "</style>\n",
       "<table border=\"1\" class=\"dataframe\">\n",
       "  <thead>\n",
       "    <tr style=\"text-align: right;\">\n",
       "      <th>smoker</th>\n",
       "      <th>No</th>\n",
       "      <th>Yes</th>\n",
       "    </tr>\n",
       "    <tr>\n",
       "      <th>sex</th>\n",
       "      <th></th>\n",
       "      <th></th>\n",
       "    </tr>\n",
       "  </thead>\n",
       "  <tbody>\n",
       "    <tr>\n",
       "      <th>Female</th>\n",
       "      <td>54</td>\n",
       "      <td>33</td>\n",
       "    </tr>\n",
       "    <tr>\n",
       "      <th>Male</th>\n",
       "      <td>97</td>\n",
       "      <td>60</td>\n",
       "    </tr>\n",
       "  </tbody>\n",
       "</table>\n",
       "</div>"
      ],
      "text/plain": [
       "smoker  No  Yes\n",
       "sex            \n",
       "Female  54   33\n",
       "Male    97   60"
      ]
     },
     "execution_count": 180,
     "metadata": {},
     "output_type": "execute_result"
    }
   ],
   "source": [
    "dataset_table.head()"
   ]
  },
  {
   "cell_type": "code",
   "execution_count": 168,
   "id": "ee7a8c10-08df-498d-b658-e9cd7df4e2ec",
   "metadata": {},
   "outputs": [],
   "source": [
    "dataset_array=dataset_table.values"
   ]
  },
  {
   "cell_type": "code",
   "execution_count": 167,
   "id": "4f1cfaf0-736e-4d56-a2bc-028f13fa6f02",
   "metadata": {},
   "outputs": [],
   "source": [
    "import scipy.stats as stats"
   ]
  },
  {
   "cell_type": "code",
   "execution_count": 169,
   "id": "746b653a-4685-47d0-a6f4-035c843eecc5",
   "metadata": {},
   "outputs": [
    {
     "data": {
      "text/plain": [
       "Chi2ContingencyResult(statistic=0.0, pvalue=1.0, dof=1, expected_freq=array([[53.84016393, 33.15983607],\n",
       "       [97.15983607, 59.84016393]]))"
      ]
     },
     "execution_count": 169,
     "metadata": {},
     "output_type": "execute_result"
    }
   ],
   "source": [
    "stats.chi2_contingency(dataset_array)"
   ]
  },
  {
   "cell_type": "code",
   "execution_count": 183,
   "id": "e4b320f6-f09a-4987-aaea-195ab3367a9f",
   "metadata": {},
   "outputs": [],
   "source": [
    "stat, p, dof, expected=stats.chi2_contingency(dataset_array)"
   ]
  },
  {
   "cell_type": "code",
   "execution_count": 184,
   "id": "99cf39ad-3830-40d0-b0c4-34651d31abd5",
   "metadata": {},
   "outputs": [
    {
     "data": {
      "text/plain": [
       "1.0"
      ]
     },
     "execution_count": 184,
     "metadata": {},
     "output_type": "execute_result"
    }
   ],
   "source": [
    "p"
   ]
  },
  {
   "cell_type": "code",
   "execution_count": 176,
   "id": "ea1d01da-79de-4127-8d17-4bd189a00073",
   "metadata": {},
   "outputs": [],
   "source": [
    "no_of_rows=dataset_table.iloc[0:2,0]"
   ]
  },
  {
   "cell_type": "code",
   "execution_count": 177,
   "id": "af47623a-4f12-4062-a0ba-791889595280",
   "metadata": {},
   "outputs": [
    {
     "data": {
      "text/plain": [
       "sex\n",
       "Female    54\n",
       "Male      97\n",
       "Name: No, dtype: int64"
      ]
     },
     "execution_count": 177,
     "metadata": {},
     "output_type": "execute_result"
    }
   ],
   "source": [
    "no_of_rows"
   ]
  },
  {
   "cell_type": "code",
   "execution_count": 178,
   "id": "bbef5485-cd64-4f56-993a-8af034617bfc",
   "metadata": {},
   "outputs": [],
   "source": [
    "no_of_column=dataset_table.iloc[0,0:2]"
   ]
  },
  {
   "cell_type": "code",
   "execution_count": 179,
   "id": "9d09bf35-2767-4613-9ba3-081d92b58c63",
   "metadata": {},
   "outputs": [
    {
     "data": {
      "text/plain": [
       "smoker\n",
       "No     54\n",
       "Yes    33\n",
       "Name: Female, dtype: int64"
      ]
     },
     "execution_count": 179,
     "metadata": {},
     "output_type": "execute_result"
    }
   ],
   "source": [
    "no_of_column"
   ]
  },
  {
   "cell_type": "code",
   "execution_count": 181,
   "id": "c8af6ceb-7156-465d-bded-97b2ee300eb6",
   "metadata": {},
   "outputs": [],
   "source": [
    "dof=(len(no_of_column)-1)*(len(no_of_rows)-1)"
   ]
  },
  {
   "cell_type": "code",
   "execution_count": 182,
   "id": "7e55cfb1-8701-4c41-a4b3-af5be7b37263",
   "metadata": {},
   "outputs": [
    {
     "data": {
      "text/plain": [
       "1"
      ]
     },
     "execution_count": 182,
     "metadata": {},
     "output_type": "execute_result"
    }
   ],
   "source": [
    "dof"
   ]
  },
  {
   "cell_type": "code",
   "execution_count": 186,
   "id": "67a7ad28-dad8-4100-b9d7-a4ec46baaae2",
   "metadata": {},
   "outputs": [
    {
     "name": "stdout",
     "output_type": "stream",
     "text": [
      "p value is 1.0\n",
      "Independent (H0 holds true)\n"
     ]
    }
   ],
   "source": [
    "alpha = 0.05\n",
    "print(\"p value is \" + str(p))\n",
    "if p <= alpha:\n",
    "    print('Dependent (reject H0)')\n",
    "else:\n",
    "    print('Independent (H0 holds true)')"
   ]
  },
  {
   "cell_type": "code",
   "execution_count": null,
   "id": "24ac51ea-8cea-4204-8176-44b033ee9ba7",
   "metadata": {},
   "outputs": [],
   "source": []
  }
 ],
 "metadata": {
  "kernelspec": {
   "display_name": "Python 3 (ipykernel)",
   "language": "python",
   "name": "python3"
  },
  "language_info": {
   "codemirror_mode": {
    "name": "ipython",
    "version": 3
   },
   "file_extension": ".py",
   "mimetype": "text/x-python",
   "name": "python",
   "nbconvert_exporter": "python",
   "pygments_lexer": "ipython3",
   "version": "3.11.7"
  }
 },
 "nbformat": 4,
 "nbformat_minor": 5
}
